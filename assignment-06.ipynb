{
 "cells": [
  {
   "cell_type": "markdown",
   "id": "5c292f4a",
   "metadata": {},
   "source": [
    "# This is Assignment 06 - John Saia"
   ]
  },
  {
   "cell_type": "markdown",
   "id": "cb0d8f76",
   "metadata": {},
   "source": [
    "## Requirement 4"
   ]
  },
  {
   "cell_type": "code",
   "execution_count": 1,
   "id": "bd6864c6",
   "metadata": {},
   "outputs": [
    {
     "name": "stdout",
     "output_type": "stream",
     "text": [
      "List_1 contains the elements: [8, 13, 5, 13, 24, 28, 94, 72, 83, 49, 14, 4, 99, 59, 83, 49, 30, 31, 84, 24] \n",
      "\n",
      "The amount of elements in list_1 is 20 \n",
      "\n",
      "This is list_1 with 3 additional numbers appeneded: [8, 13, 5, 13, 24, 28, 94, 72, 83, 49, 14, 4, 99, 59, 83, 49, 30, 31, 84, 24, 74, 49, 32] \n",
      "\n",
      "This is the result of list_1 + list_2: [8, 13, 5, 13, 24, 28, 94, 72, 83, 49, 14, 4, 99, 59, 83, 49, 30, 31, 84, 24, 74, 49, 32, 20, 10, 15, 18, 90, 80, 45] \n",
      "\n",
      "This is list_1 sorted: [4, 5, 8, 13, 13, 14, 24, 24, 28, 30, 31, 32, 49, 49, 49, 59, 72, 74, 83, 83, 84, 94, 99] \n",
      "\n"
     ]
    }
   ],
   "source": [
    "# Create a list named list_1 \n",
    "\n",
    "list_1 = []\n",
    "\n",
    "# Populate list_1 list with 20 arbitrary numbers between 0 and 99\n",
    "\n",
    "import numpy as np\n",
    "\n",
    "for element in range(20):\n",
    "    \n",
    "    x = np.random.randint(100)\n",
    "    list_1.append(x)\n",
    "\n",
    "print('List_1 contains the elements:', list_1, '\\n')\n",
    "\n",
    "# output the length of the list\n",
    "\n",
    "list_count = len(list_1)\n",
    "\n",
    "print('The amount of elements in list_1 is', list_count,'\\n')\n",
    "\n",
    "# append 3 numbers to the list between 0 and 99\n",
    "\n",
    "for element in range(3):\n",
    "    \n",
    "    x = np.random.randint(100)\n",
    "    list_1.append(x)\n",
    "\n",
    "print('This is list_1 with 3 additional numbers appeneded:', list_1,'\\n')\n",
    "\n",
    "# use the addition operator (+ sign) to append a literal list of 7\n",
    "# numbers between 0 and 99 to list_1. A literal list consists of\n",
    "# objects in []; like [1, 2, 3], without assignment to a variable.\n",
    "\n",
    "list_2 = [20, 10, 15, 18, 90, 80, 45]\n",
    "\n",
    "list_1_2 = list_1 + list_2\n",
    "\n",
    "print('This is the result of list_1 + list_2:', list_1_2,'\\n')\n",
    "\n",
    "# sort list_1\n",
    "\n",
    "list_1.sort()\n",
    "\n",
    "print('This is list_1 sorted:', list_1, '\\n')"
   ]
  },
  {
   "cell_type": "markdown",
   "id": "259bad35",
   "metadata": {},
   "source": [
    "## Requirement 5"
   ]
  },
  {
   "cell_type": "code",
   "execution_count": 2,
   "id": "bbb4d085",
   "metadata": {},
   "outputs": [
    {
     "name": "stdout",
     "output_type": "stream",
     "text": [
      "The fourth element in list_1 is 13 \n",
      "\n",
      "The fifteenth element in list_1 is 49 \n",
      "\n",
      "The 3rd element from the end of list_1 is 84 \n",
      "\n",
      "The 7th element from the end of list_1 is 72 \n",
      "\n",
      "The first 4 elements in list_1 is [4, 5, 8, 13] \n",
      "\n",
      "The last 5 elements in list_1 is [74, 83, 83, 84, 94] \n",
      "\n",
      "This is list_1 in reverse order: [99, 94, 84, 83, 83, 74, 72, 59, 49, 49, 49, 32, 31, 30, 28, 24, 24, 14, 13, 13, 8, 5, 4] \n",
      "\n",
      "This is the 14th element in list_1 -99 \n",
      "\n",
      "This is an aternating number list of list_1 [4, 8, 13, 24, 28, 31, 49, 49, 72, 83, 84, 99] \n",
      "\n",
      "This is list_1 with 9th through 15th elements set to -77: [-77, -77, -77, -77, -77, -77, -77]\n"
     ]
    }
   ],
   "source": [
    "# the 4th element\n",
    "\n",
    "fourth_element = list_1[3]\n",
    "\n",
    "print('The fourth element in list_1 is', fourth_element, '\\n')\n",
    "\n",
    "# the 15th element\n",
    "\n",
    "fifteenth_element = list_1[14]\n",
    "\n",
    "print('The fifteenth element in list_1 is', fifteenth_element, '\\n')\n",
    "\n",
    "# the 3rd element from the end\n",
    "\n",
    "end3_element = list_1[-3]\n",
    "\n",
    "print('The 3rd element from the end of list_1 is', end3_element, '\\n')\n",
    "\n",
    "# the 7th element from the end\n",
    "\n",
    "end7_element = list_1[-7]\n",
    "\n",
    "print('The 7th element from the end of list_1 is', end7_element, '\\n')\n",
    "\n",
    "# the first 4 elements\n",
    "\n",
    "first4_element = list_1[:4]\n",
    "\n",
    "print('The first 4 elements in list_1 is', first4_element, '\\n')\n",
    "\n",
    "# the last 5 elements\n",
    "\n",
    "last5_element = list_1[-6:-1]\n",
    "\n",
    "print('The last 5 elements in list_1 is', last5_element, '\\n')\n",
    "\n",
    "# the elements in reverse order\n",
    "\n",
    "reverse_order = list_1[::-1]\n",
    "\n",
    "print('This is list_1 in reverse order:', reverse_order, '\\n')\n",
    "\n",
    "# set the 14th element = -99\n",
    "\n",
    "list_1[13] = -99\n",
    "\n",
    "print('This is the 14th element in list_1', list_1[13], '\\n')\n",
    "\n",
    "# every other (alternating) element in the list\n",
    "\n",
    "othernum_list = list_1[::2]\n",
    "\n",
    "print('This is an aternating number list of list_1', othernum_list, '\\n')\n",
    "\n",
    "# set elements 9th through 15th to -77\n",
    "\n",
    "list_1[8:15] = [-77, -77, -77, -77, -77, -77, -77]\n",
    "\n",
    "print('This is list_1 with 9th through 15th elements set to -77:', list_1[8:15])"
   ]
  },
  {
   "cell_type": "markdown",
   "id": "30a50201",
   "metadata": {},
   "source": [
    "## Requirement 6"
   ]
  },
  {
   "cell_type": "code",
   "execution_count": 3,
   "id": "f6f717cf",
   "metadata": {},
   "outputs": [
    {
     "name": "stdout",
     "output_type": "stream",
     "text": [
      "This is the tuple: (10, 20, 30, 40, 50, 60, 70)\n"
     ]
    },
    {
     "ename": "TypeError",
     "evalue": "'tuple' object does not support item assignment",
     "output_type": "error",
     "traceback": [
      "\u001b[1;31m---------------------------------------------------------------------------\u001b[0m",
      "\u001b[1;31mTypeError\u001b[0m                                 Traceback (most recent call last)",
      "Input \u001b[1;32mIn [3]\u001b[0m, in \u001b[0;36m<cell line: 9>\u001b[1;34m()\u001b[0m\n\u001b[0;32m      5\u001b[0m \u001b[38;5;28mprint\u001b[39m(\u001b[38;5;124m'\u001b[39m\u001b[38;5;124mThis is the tuple:\u001b[39m\u001b[38;5;124m'\u001b[39m, tuple_1)\n\u001b[0;32m      7\u001b[0m \u001b[38;5;66;03m# attempt to set the 3rd value to -33\u001b[39;00m\n\u001b[1;32m----> 9\u001b[0m tuple_1[\u001b[38;5;241m2\u001b[39m] \u001b[38;5;241m=\u001b[39m \u001b[38;5;241m-\u001b[39m\u001b[38;5;241m33\u001b[39m\n\u001b[0;32m     11\u001b[0m \u001b[38;5;28mprint\u001b[39m(tuple_1)\n",
      "\u001b[1;31mTypeError\u001b[0m: 'tuple' object does not support item assignment"
     ]
    }
   ],
   "source": [
    "# Create a tuple named tuple_1 containing 7 arbitrary numbers\n",
    "\n",
    "tuple_1 = (10,20,30,40,50,60,70)\n",
    "\n",
    "print('This is the tuple:', tuple_1)\n",
    "\n",
    "# attempt to set the 3rd value to -33\n",
    "\n",
    "tuple_1[2] = -33\n",
    "\n",
    "print(tuple_1)"
   ]
  },
  {
   "cell_type": "code",
   "execution_count": 19,
   "id": "2cfba872",
   "metadata": {},
   "outputs": [
    {
     "ename": "AttributeError",
     "evalue": "'tuple' object has no attribute 'append'",
     "output_type": "error",
     "traceback": [
      "\u001b[1;31m---------------------------------------------------------------------------\u001b[0m",
      "\u001b[1;31mAttributeError\u001b[0m                            Traceback (most recent call last)",
      "Input \u001b[1;32mIn [19]\u001b[0m, in \u001b[0;36m<cell line: 3>\u001b[1;34m()\u001b[0m\n\u001b[0;32m      1\u001b[0m \u001b[38;5;66;03m# attempt to append the value -22 to the tuple\u001b[39;00m\n\u001b[1;32m----> 3\u001b[0m \u001b[43mtuple_1\u001b[49m\u001b[38;5;241;43m.\u001b[39;49m\u001b[43mappend\u001b[49m(\u001b[38;5;241m-\u001b[39m\u001b[38;5;241m22\u001b[39m)\n\u001b[0;32m      5\u001b[0m \u001b[38;5;28mprint\u001b[39m(tuple_1)\n",
      "\u001b[1;31mAttributeError\u001b[0m: 'tuple' object has no attribute 'append'"
     ]
    }
   ],
   "source": [
    "# attempt to append the value -22 to the tuple\n",
    "\n",
    "tuple_1.append(-22)\n",
    "\n",
    "print(tuple_1)"
   ]
  },
  {
   "cell_type": "markdown",
   "id": "4d0c0735",
   "metadata": {},
   "source": [
    "## Requirement 7"
   ]
  },
  {
   "cell_type": "code",
   "execution_count": 4,
   "id": "6d3074c0",
   "metadata": {},
   "outputs": [
    {
     "name": "stdout",
     "output_type": "stream",
     "text": [
      "Saints football roster dictionary {'QB': 'Jameis Winston', 'RB': 'Alvin Kamara', 'WR': 'Michael Thomas', 'S': 'Marcus Maye', 'TE': 'Taysom Hill', 'C': 'Eric McCoy', 'OT': 'Trevor Penning', 'DE': 'Cameron Jordan', 'DT': 'Shy Tuttle'} \n",
      "\n",
      "The RB on the Saints is now: Mark Ingram \n",
      "\n",
      "The LB postion was added to the roster: {'QB': 'Jameis Winston', 'RB': 'Mark Ingram', 'WR': 'Michael Thomas', 'S': 'Marcus Maye', 'TE': 'Taysom Hill', 'C': 'Eric McCoy', 'OT': 'Trevor Penning', 'DE': 'Cameron Jordan', 'DT': 'Shy Tuttle', 'LB': 'Demario Davis'} \n",
      "\n"
     ]
    }
   ],
   "source": [
    "# Create a dictionary named players_<sportofchoice> (e.g. players_baseball)\n",
    "# populate the dictionary with player positions as keys (e.g. shortstop) player names as values (e.g. Brennen)\n",
    "# include at least 9 key::value pairs in the dictionary\n",
    "\n",
    "players_football = {'QB':'Jameis Winston', 'RB':'Alvin Kamara', 'WR':'Michael Thomas', 'S':'Marcus Maye',\n",
    "                    'TE':'Taysom Hill','C':'Eric McCoy','OT':'Trevor Penning','DE':'Cameron Jordan','DT':'Shy Tuttle'}\n",
    "\n",
    "print('Saints football roster dictionary', players_football, '\\n')\n",
    "\n",
    "# change a key::value pair\n",
    "\n",
    "players_football['RB'] = 'Mark Ingram'\n",
    "\n",
    "print('The RB on the Saints is now:', players_football['RB'], '\\n')\n",
    "\n",
    "# add a new key::value pair\n",
    "\n",
    "players_football['LB'] = 'Demario Davis'\n",
    "\n",
    "print('The LB postion was added to the roster:', players_football, '\\n')"
   ]
  },
  {
   "cell_type": "markdown",
   "id": "53b10d35",
   "metadata": {},
   "source": [
    "## Requirement 8"
   ]
  },
  {
   "cell_type": "code",
   "execution_count": 5,
   "id": "6fe598f5",
   "metadata": {},
   "outputs": [
    {
     "name": "stdout",
     "output_type": "stream",
     "text": [
      "This is a union of the family names: {'Michael', 'Jerry', 'Pam', 'Tim', 'Wendy', 'Seth', 'Joe', 'Roman', 'Jim', 'John', 'Jan', 'Rick', 'Sam', 'Kim', 'Tom'} \n",
      "\n",
      "This is a intersection of the family names: {'John', 'Jan', 'Sam', 'Tim', 'Jim'} \n",
      "\n",
      "This is the difference of the family names: {'Rick', 'Kim', 'Pam', 'Seth', 'Roman'} \n",
      "\n",
      "This is the symmetric difference of the family names: {'Michael', 'Jerry', 'Rick', 'Kim', 'Pam', 'Wendy', 'Seth', 'Joe', 'Roman', 'Tom'} \n",
      "\n"
     ]
    }
   ],
   "source": [
    "# Create two sets named hatfields and mccoys. Each set should contain 10\n",
    "# first names with a few in common.\n",
    "\n",
    "hatfields = {'John', 'Sam', 'Jim', 'Tim', 'Pam', 'Kim', 'Jan', 'Seth', 'Rick', 'Roman'}\n",
    "\n",
    "mccoys = {'John', 'Sam', 'Jim', 'Tim', 'Jan', 'Jerry', 'Tom', 'Joe', 'Wendy', 'Michael'}\n",
    "\n",
    "# union\n",
    "\n",
    "name_union = hatfields | mccoys\n",
    "\n",
    "print('This is a union of the family names:', name_union,'\\n')\n",
    "\n",
    "# intersection\n",
    "\n",
    "name_intersection = hatfields & mccoys\n",
    "\n",
    "print('This is a intersection of the family names:', name_intersection, '\\n')\n",
    "\n",
    "# difference\n",
    "\n",
    "name_difference = hatfields - mccoys\n",
    "\n",
    "print('This is the difference of the family names:', name_difference, '\\n')\n",
    "\n",
    "# symmetric difference\n",
    "\n",
    "name_sdifference = hatfields ^ mccoys\n",
    "\n",
    "print('This is the symmetric difference of the family names:', name_sdifference, '\\n')"
   ]
  },
  {
   "cell_type": "markdown",
   "id": "40c39ff8",
   "metadata": {},
   "source": [
    "## Requirement 9"
   ]
  },
  {
   "cell_type": "code",
   "execution_count": 6,
   "id": "7baeb430",
   "metadata": {},
   "outputs": [
    {
     "name": "stdout",
     "output_type": "stream",
     "text": [
      "The weather is hot.\n"
     ]
    }
   ],
   "source": [
    "# Demonstrate the use of if, elif, and else statements based on weather conditions\n",
    "\n",
    "weather_F = 100\n",
    "\n",
    "if weather_F > 78:\n",
    "    \n",
    "    print('The weather is hot.')\n",
    "    \n",
    "elif weather_F >= 60:\n",
    "    \n",
    "    print('The weather is comfortable')\n",
    "    \n",
    "else:\n",
    "    \n",
    "    print('The weather is cold')"
   ]
  },
  {
   "cell_type": "markdown",
   "id": "074fb59e",
   "metadata": {},
   "source": [
    "## Requirement 10"
   ]
  },
  {
   "cell_type": "code",
   "execution_count": 7,
   "id": "18ec38a2",
   "metadata": {},
   "outputs": [
    {
     "name": "stdout",
     "output_type": "stream",
     "text": [
      "0 1 2 3 4 5 6 7 8 9 \n",
      "\n",
      "Jim\n",
      "Sam\n",
      "Tim\n"
     ]
    }
   ],
   "source": [
    "# Demonstrate the use of a for loop using a range:\n",
    "\n",
    "for x in range(10):\n",
    "    print(x, end = ' ')\n",
    "\n",
    "# Demonstrate the use of a for loop using list contents:\n",
    "\n",
    "list_loop = ['Jim', 'Sam', 'Tim']\n",
    "\n",
    "print('\\n')\n",
    "\n",
    "for x in list_loop:\n",
    "    print(x)"
   ]
  },
  {
   "cell_type": "markdown",
   "id": "f7faa8dd",
   "metadata": {},
   "source": [
    "## Requirement 11"
   ]
  },
  {
   "cell_type": "code",
   "execution_count": 8,
   "id": "b0bdc6ee",
   "metadata": {},
   "outputs": [
    {
     "name": "stdout",
     "output_type": "stream",
     "text": [
      "0 1 2 3 4 5 6 7 \n",
      "\n",
      "1 2 3 4 5 6 7 "
     ]
    }
   ],
   "source": [
    "# Demonstrate the use of the below in two while loops:\n",
    "# i = 0 to 7 (where 7 is the number of times the loop executes)\n",
    "\n",
    "i = 0\n",
    "\n",
    "while i < 8:\n",
    "    \n",
    "    print(i, end = ' ')\n",
    "    \n",
    "    i += 1\n",
    "    \n",
    "print('\\n')\n",
    "\n",
    "#i = 1 to 7 (where 7 is the number of times the loop executes)\n",
    "\n",
    "i = 1\n",
    "\n",
    "while i < 8:\n",
    "    \n",
    "    print(i, end = ' ')\n",
    "    \n",
    "    i += 1"
   ]
  },
  {
   "cell_type": "markdown",
   "id": "2c8dbdc2",
   "metadata": {},
   "source": [
    "## Requirement 12"
   ]
  },
  {
   "cell_type": "code",
   "execution_count": 9,
   "id": "77f929c9",
   "metadata": {},
   "outputs": [
    {
     "data": {
      "text/plain": [
       "120"
      ]
     },
     "execution_count": 9,
     "metadata": {},
     "output_type": "execute_result"
    }
   ],
   "source": [
    "# Define and use a function named factorial() that returns the factorial of a\n",
    "# number that is passed to it as an argument when called. For example,\n",
    "# factorial(5) should return the result of 5x4x3x2x1 = 120\n",
    "\n",
    "def factorial(number):\n",
    "   \n",
    "    result = 1\n",
    "    factor = number\n",
    "    \n",
    "    for x in range(1,factor+1):\n",
    "        \n",
    "        result = result * x\n",
    "        \n",
    "    return result\n",
    "        \n",
    "factorial(5)"
   ]
  },
  {
   "cell_type": "markdown",
   "id": "600940ed",
   "metadata": {},
   "source": [
    "## Requirement 13"
   ]
  },
  {
   "cell_type": "code",
   "execution_count": 10,
   "id": "5d5bab13",
   "metadata": {},
   "outputs": [
    {
     "name": "stdout",
     "output_type": "stream",
     "text": [
      "(5,)\n",
      "{'carrots': 3, 'radish': 2}\n"
     ]
    }
   ],
   "source": [
    "# Define and use a function named vegetables() that takes numbers of\n",
    "# vegetables as *args and names of vegetables as **kwargs.\n",
    "\n",
    "def vegetables(*number, **names):\n",
    "    \n",
    "    print(number)\n",
    "    print(names)\n",
    "\n",
    "vegetables(5, carrots=3, radish=2)\n"
   ]
  },
  {
   "cell_type": "markdown",
   "id": "77712c26",
   "metadata": {},
   "source": [
    "## Requirement 14"
   ]
  },
  {
   "cell_type": "code",
   "execution_count": 11,
   "id": "6ce501d5",
   "metadata": {},
   "outputs": [
    {
     "name": "stdout",
     "output_type": "stream",
     "text": [
      "Sort by make: [{'Make': 'GMC', 'Model': 'Denali', 'Color': 'Silver'}, {'Make': 'Honda', 'Model': 'CR-V', 'Color': 'Black'}, {'Make': 'Volkswagon', 'Model': 'GTI', 'Color': 'Blue'}]\n",
      "\n",
      "\n",
      "Sort by model [{'Make': 'Honda', 'Model': 'CR-V', 'Color': 'Black'}, {'Make': 'GMC', 'Model': 'Denali', 'Color': 'Silver'}, {'Make': 'Volkswagon', 'Model': 'GTI', 'Color': 'Blue'}]\n"
     ]
    }
   ],
   "source": [
    "# Create a list named cars that contains three dictionaries each with three\n",
    "# key::value pairs.\n",
    "# The key::value pairs should represent three common\n",
    "# attributes::values of automobiles\n",
    "\n",
    "cars =[{'Make':'Honda','Model':'CR-V','Color':'Black'},\n",
    "       {'Make':'Volkswagon','Model':'GTI','Color':'Blue'},\n",
    "       {'Make':'GMC','Model':'Denali','Color':'Silver'}]\n",
    "\n",
    "# pass the cars list to the sorted built-in function and use a lambda to\n",
    "# sort the cars list\n",
    "\n",
    "sort_make = sorted(cars, key=lambda item: item['Make'])\n",
    "\n",
    "print('Sort by make:', sort_make)\n",
    "# perform another sort on the cars list using a lambda and a different\n",
    "# key\n",
    "\n",
    "print('\\n')\n",
    "\n",
    "sort_model = sorted(cars, key=lambda item: item['Model'])\n",
    "\n",
    "print('Sort by model', sort_model)"
   ]
  },
  {
   "cell_type": "markdown",
   "id": "e0f3ba43",
   "metadata": {},
   "source": [
    "## Requirement 15"
   ]
  },
  {
   "cell_type": "code",
   "execution_count": 12,
   "id": "82f0e1e8",
   "metadata": {},
   "outputs": [
    {
     "name": "stdout",
     "output_type": "stream",
     "text": [
      "Input number: hi\n",
      "Error! A valid number wasn't entered!\n"
     ]
    }
   ],
   "source": [
    "# Demonstrate the use of a try and except statement\n",
    "\n",
    "try:\n",
    "    \n",
    "    user_input = float(input(\"Input number: \"))\n",
    "    \n",
    "except ValueError:\n",
    "    \n",
    "    print(\"Error! A valid number wasn't entered!\")"
   ]
  },
  {
   "cell_type": "markdown",
   "id": "3949d4e0",
   "metadata": {},
   "source": [
    "## Requirement 16"
   ]
  },
  {
   "cell_type": "code",
   "execution_count": 13,
   "id": "103f0611",
   "metadata": {},
   "outputs": [
    {
     "name": "stdout",
     "output_type": "stream",
     "text": [
      "Input number: 5\n",
      "10.0\n",
      "The statement has been executed\n"
     ]
    }
   ],
   "source": [
    "# Demonstrate the use of try, except, else, and finally statements.\n",
    "\n",
    "try:\n",
    "    \n",
    "    user_input = float(input(\"Input number: \"))\n",
    "    \n",
    "except ValueError:\n",
    "    \n",
    "    print(\"Error! A valid number wasn't entered!\")\n",
    "\n",
    "else: \n",
    "    \n",
    "    result = user_input + 5\n",
    "    print(result)\n",
    "\n",
    "finally:\n",
    "    \n",
    "    print('The statement has been executed')"
   ]
  },
  {
   "cell_type": "markdown",
   "id": "c0076722",
   "metadata": {},
   "source": [
    "## Requirement 17"
   ]
  },
  {
   "cell_type": "markdown",
   "id": "b6a1bb91",
   "metadata": {},
   "source": [
    "Iterators aid the process of repetition over certain portions of code for automation purposes in a particular order. Python treats things like lists that aren't specifically lists that can be iterated through."
   ]
  },
  {
   "cell_type": "markdown",
   "id": "842edba5",
   "metadata": {},
   "source": [
    "## Requirement 18"
   ]
  },
  {
   "cell_type": "code",
   "execution_count": 14,
   "id": "8ee962af",
   "metadata": {},
   "outputs": [
    {
     "name": "stdout",
     "output_type": "stream",
     "text": [
      "0 Bobcat\n",
      "1 Cheetah\n",
      "2 Lion\n",
      "3 Hippo\n",
      "4 Raccoon\n",
      "5 Wolf\n",
      "6 Coyote\n",
      "7 Polar Bear\n",
      "8 Red Fox\n",
      "9 Oak Toad\n"
     ]
    }
   ],
   "source": [
    "# Create a list of 10 animal species named animals_list and demonstrate the\n",
    "# use of len() and iteration to print the index and values of the animals in the list\n",
    "\n",
    "species_list = ['Bobcat', 'Cheetah', 'Lion', 'Hippo', 'Raccoon', 'Wolf', 'Coyote','Polar Bear', 'Red Fox','Oak Toad']\n",
    "\n",
    "for species in range(len(species_list)):\n",
    "    print(species, species_list[species])"
   ]
  },
  {
   "cell_type": "markdown",
   "id": "71ccf53f",
   "metadata": {},
   "source": [
    "## Requirement 19"
   ]
  },
  {
   "cell_type": "code",
   "execution_count": 15,
   "id": "d2e1b0eb",
   "metadata": {},
   "outputs": [
    {
     "name": "stdout",
     "output_type": "stream",
     "text": [
      "0 Bobcat\n",
      "1 Cheetah\n",
      "2 Lion\n",
      "3 Hippo\n",
      "4 Raccoon\n",
      "5 Wolf\n",
      "6 Coyote\n",
      "7 Polar Bear\n",
      "8 Red Fox\n",
      "9 Oak Toad\n"
     ]
    }
   ],
   "source": [
    "# Use the enumerate iterator to perform the same actions as the previous requirement.\n",
    "\n",
    "for x, species in enumerate(species_list):\n",
    "    print(x, species)"
   ]
  },
  {
   "cell_type": "markdown",
   "id": "13500d13",
   "metadata": {},
   "source": [
    "## Requirement 20"
   ]
  },
  {
   "cell_type": "code",
   "execution_count": 16,
   "id": "421e13a9",
   "metadata": {},
   "outputs": [
    {
     "name": "stdout",
     "output_type": "stream",
     "text": [
      "Bobcat Blue\n",
      "Cheetah Red\n",
      "Lion Yellow\n",
      "Hippo Orange\n",
      "Raccoon Purple\n",
      "Wolf Green\n",
      "Coyote Sky Blue\n",
      "Polar Bear Light Green\n",
      "Red Fox Teal\n",
      "Oak Toad Brown\n"
     ]
    }
   ],
   "source": [
    "# Create a list of 10 colors named colors_list. Use the zip iterator print the\n",
    "# values of the animals_list and colors_list within the same for loop.\n",
    "\n",
    "colors_list = ['Blue','Red', 'Yellow', 'Orange', 'Purple', 'Green', 'Sky Blue', 'Light Green','Teal', 'Brown']\n",
    "\n",
    "for species, colors in zip(species_list, colors_list):\n",
    "    print(species, colors)"
   ]
  },
  {
   "cell_type": "markdown",
   "id": "8d341964",
   "metadata": {},
   "source": [
    "## Requirement 21"
   ]
  },
  {
   "cell_type": "code",
   "execution_count": 17,
   "id": "5ce510ec",
   "metadata": {},
   "outputs": [
    {
     "name": "stdout",
     "output_type": "stream",
     "text": [
      "0 10 20 30 40 50 60 70 80 90 "
     ]
    }
   ],
   "source": [
    "# Create a lambda named times_ten that multiplies the variable x by 10. Use\n",
    "# the map iterator and range(10) to evaluate the lambda in a for loop.\n",
    "\n",
    "times_ten = lambda x: x * 10\n",
    "\n",
    "for val in map(times_ten, range(10)):\n",
    "    print(val, end=' ')"
   ]
  },
  {
   "cell_type": "markdown",
   "id": "cb289731",
   "metadata": {},
   "source": [
    "## Requirement 22"
   ]
  },
  {
   "cell_type": "code",
   "execution_count": 18,
   "id": "fbd165b5",
   "metadata": {},
   "outputs": [
    {
     "name": "stdout",
     "output_type": "stream",
     "text": [
      "0 3 6 9 12 15 18 21 24 27 "
     ]
    }
   ],
   "source": [
    "# Create a lambda named by_three that returns true if the variable x is\n",
    "# evenly divisible by 3. Use the filter iterator and range(30) to evaluate the lambda in a for loop.\n",
    "\n",
    "by_three = lambda x: x % 3 == 0\n",
    "\n",
    "for val in filter(by_three, range(30)):\n",
    "    print(val, end=' ')"
   ]
  },
  {
   "cell_type": "markdown",
   "id": "b5155efc",
   "metadata": {},
   "source": [
    "## Requirement 23"
   ]
  },
  {
   "cell_type": "markdown",
   "id": "292e6aa9",
   "metadata": {},
   "source": [
    "The assignment helped me with concepts I was aware of, but didn't use frequently. This involved lamba functions, args, and kwargs. Args working as an iterator in the textbook was interesting."
   ]
  }
 ],
 "metadata": {
  "kernelspec": {
   "display_name": "Python 3 (ipykernel)",
   "language": "python",
   "name": "python3"
  },
  "language_info": {
   "codemirror_mode": {
    "name": "ipython",
    "version": 3
   },
   "file_extension": ".py",
   "mimetype": "text/x-python",
   "name": "python",
   "nbconvert_exporter": "python",
   "pygments_lexer": "ipython3",
   "version": "3.8.13"
  }
 },
 "nbformat": 4,
 "nbformat_minor": 5
}
