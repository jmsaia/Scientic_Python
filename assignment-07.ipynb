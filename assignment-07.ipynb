{
 "cells": [
  {
   "cell_type": "markdown",
   "id": "32e05249",
   "metadata": {},
   "source": [
    "# This is Assignment 07 - John Saia"
   ]
  },
  {
   "cell_type": "markdown",
   "id": "7e518cb9",
   "metadata": {},
   "source": [
    "## Requirement 4"
   ]
  },
  {
   "cell_type": "code",
   "execution_count": 1,
   "id": "c8b488eb",
   "metadata": {},
   "outputs": [
    {
     "data": {
      "text/plain": [
       "[1, 2, 4, 5, 7, 8, 10, 11, 14, 16, 19, 20, 22, 23, 25, 26, 28, 29]"
      ]
     },
     "execution_count": 1,
     "metadata": {},
     "output_type": "execute_result"
    }
   ],
   "source": [
    "# From range(30), use list comprehension to output a list with numbers that\n",
    "# are not multiples of 3 and not equal to 13 and not equal to 17.\n",
    "\n",
    "[x for x in range(30) \n",
    " if x % 3 > 0 and x != 13 and x != 17]"
   ]
  },
  {
   "cell_type": "markdown",
   "id": "2f3ff2be",
   "metadata": {},
   "source": [
    "## Requirement 5"
   ]
  },
  {
   "cell_type": "code",
   "execution_count": 2,
   "id": "3d0f4a92",
   "metadata": {},
   "outputs": [
    {
     "name": "stdout",
     "output_type": "stream",
     "text": [
      "[1, 2, 4, 5, 7, 8, 10, 11, 14, 16, 19, 20, 22, 23, 25, 26, 28, 29]\n"
     ]
    }
   ],
   "source": [
    "# Write the operation in the previous Requirement but using loop syntax\n",
    "# instead of list comprehension.\n",
    "\n",
    "list1 = []\n",
    "\n",
    "for x in range(30):\n",
    "    \n",
    "    if x % 3 > 0 and x != 13 and x != 17:\n",
    "        list1.append(x)\n",
    "        \n",
    "print(list1)"
   ]
  },
  {
   "cell_type": "markdown",
   "id": "9e665a95",
   "metadata": {},
   "source": [
    "## Requirement 6"
   ]
  },
  {
   "cell_type": "code",
   "execution_count": 3,
   "id": "2c7dee24",
   "metadata": {},
   "outputs": [
    {
     "data": {
      "text/plain": [
       "[0,\n",
       " -1,\n",
       " 2,\n",
       " -3,\n",
       " 4,\n",
       " -5,\n",
       " 6,\n",
       " -7,\n",
       " 8,\n",
       " -9,\n",
       " 10,\n",
       " -11,\n",
       " 12,\n",
       " -13,\n",
       " 14,\n",
       " -15,\n",
       " 16,\n",
       " -17,\n",
       " 18,\n",
       " -19,\n",
       " 20,\n",
       " -21,\n",
       " 22,\n",
       " -23,\n",
       " 24,\n",
       " -25,\n",
       " 26,\n",
       " -27,\n",
       " 28,\n",
       " -29]"
      ]
     },
     "execution_count": 3,
     "metadata": {},
     "output_type": "execute_result"
    }
   ],
   "source": [
    "# From range(30), use list comprehension to output a list with positive\n",
    "# numbers that are even and negative numbers that are odd.\n",
    "\n",
    "[x if x % 2 == 0 else -x\n",
    " for x in range(30)]"
   ]
  },
  {
   "cell_type": "markdown",
   "id": "1b7a7690",
   "metadata": {},
   "source": [
    "## Requirement 7"
   ]
  },
  {
   "cell_type": "code",
   "execution_count": 4,
   "id": "a792a8c2",
   "metadata": {},
   "outputs": [
    {
     "data": {
      "text/plain": [
       "{0, 1, 2, 3, 4}"
      ]
     },
     "execution_count": 4,
     "metadata": {},
     "output_type": "execute_result"
    }
   ],
   "source": [
    "# From range(1000), use set comprehension to output a set of numbers based on i % 5.\n",
    "\n",
    "{i % 5 for i in range(1000)}"
   ]
  },
  {
   "cell_type": "markdown",
   "id": "dc10d985",
   "metadata": {},
   "source": [
    "## Requirement 8"
   ]
  },
  {
   "cell_type": "code",
   "execution_count": 5,
   "id": "2143cb20",
   "metadata": {},
   "outputs": [
    {
     "data": {
      "text/plain": [
       "{0: 0,\n",
       " 1: 1,\n",
       " 2: 8,\n",
       " 3: 27,\n",
       " 4: 64,\n",
       " 5: 125,\n",
       " 6: 216,\n",
       " 7: 343,\n",
       " 8: 512,\n",
       " 9: 729,\n",
       " 10: 1000,\n",
       " 11: 1331,\n",
       " 12: 1728,\n",
       " 13: 2197,\n",
       " 14: 2744,\n",
       " 15: 3375,\n",
       " 16: 4096,\n",
       " 17: 4913,\n",
       " 18: 5832,\n",
       " 19: 6859}"
      ]
     },
     "execution_count": 5,
     "metadata": {},
     "output_type": "execute_result"
    }
   ],
   "source": [
    "# From range(20), use dictionary comprehension to output a dictionary of\n",
    "# numbers (i) as keys and their cubes (i**3) as values. \n",
    "\n",
    "{i:i**3 for i in range(20)}"
   ]
  },
  {
   "cell_type": "markdown",
   "id": "218577dc",
   "metadata": {},
   "source": [
    "## Requirement 9"
   ]
  },
  {
   "cell_type": "code",
   "execution_count": 6,
   "id": "cbf07b6f",
   "metadata": {},
   "outputs": [
    {
     "name": "stdout",
     "output_type": "stream",
     "text": [
      "(<class 'int'>, 0) (<class 'int'>, 2) (<class 'int'>, 4) (<class 'int'>, 6) (<class 'int'>, 8) (<class 'int'>, 10) (<class 'int'>, 12) (<class 'int'>, 14) (<class 'int'>, 16) (<class 'int'>, 18) (<class 'int'>, 20) (<class 'int'>, 22) (<class 'int'>, 24) (<class 'int'>, 26) (<class 'int'>, 28) (<class 'int'>, 30) (<class 'int'>, 32) (<class 'int'>, 34) (<class 'int'>, 36) (<class 'int'>, 38) (<class 'int'>, 40) (<class 'int'>, 42) (<class 'int'>, 44) (<class 'int'>, 46) (<class 'int'>, 48)\n"
     ]
    }
   ],
   "source": [
    "# From range(50), use a generator function to create a generator named G of\n",
    "# even numbers, print the type of G, and then print the contents of G.\n",
    "\n",
    "def G_of_even_numbers(r):\n",
    "    \n",
    "    for g in range(r):\n",
    "        \n",
    "        if g % 2 == 0:\n",
    "        \n",
    "            yield type(g), g\n",
    "\n",
    "print(*G_of_even_numbers(50))"
   ]
  },
  {
   "cell_type": "markdown",
   "id": "031a3fd8",
   "metadata": {},
   "source": [
    "## Requirement 10"
   ]
  },
  {
   "cell_type": "code",
   "execution_count": 7,
   "id": "4a955fb8",
   "metadata": {},
   "outputs": [
    {
     "name": "stdout",
     "output_type": "stream",
     "text": [
      "0.0 0.5 1.0 1.5 2.0 2.5 3.0 3.5 4.0 4.5 5.0 5.5 6.0 6.5 7.0\n",
      "0.0 0.5 1.0 1.5 2.0 2.5 3.0 3.5 4.0 4.5 5.0 5.5 6.0 6.5 7.0\n"
     ]
    }
   ],
   "source": [
    "# From range(15), use a generator in two ways to output n/2. \n",
    "# For example, as G1 = (…) and G2 = gen_divby2().\n",
    "\n",
    "G1 = (n/2 for n in range(15))\n",
    "\n",
    "def gen_divby2():\n",
    "    \n",
    "    for n in range(15):\n",
    "        \n",
    "        yield n/2\n",
    "        \n",
    "G2 = gen_divby2()\n",
    "\n",
    "print(*G1)\n",
    "\n",
    "print(*G2)"
   ]
  },
  {
   "cell_type": "markdown",
   "id": "6f084e2d",
   "metadata": {},
   "source": [
    "## Requirement 11"
   ]
  },
  {
   "cell_type": "code",
   "execution_count": 8,
   "id": "6a0085f7",
   "metadata": {},
   "outputs": [
    {
     "name": "stdout",
     "output_type": "stream",
     "text": [
      "2 3 5 7 11 13 17 19 23 29 31 37 41 43 47 53 59 61 67 71 73 79 83 89 97\n"
     ]
    }
   ],
   "source": [
    "# Use a generator defined as a function to output prime numbers < 100.\n",
    "\n",
    "def prime_number_gen(num):\n",
    "    \n",
    "    prime = set()\n",
    "    \n",
    "    for number in range(2, num):\n",
    "        \n",
    "        if all(number % p > 0 for p in prime):\n",
    "            \n",
    "            prime.add(number)\n",
    "            \n",
    "            yield number\n",
    "            \n",
    "print(*prime_number_gen(100))"
   ]
  },
  {
   "cell_type": "markdown",
   "id": "58fb081a",
   "metadata": {},
   "source": [
    "## Requirement 12"
   ]
  },
  {
   "cell_type": "code",
   "execution_count": 9,
   "id": "899bc1e2",
   "metadata": {},
   "outputs": [
    {
     "name": "stdout",
     "output_type": "stream",
     "text": [
      "The os name: nt\n",
      "The system reference count of G2: 3\n",
      "The math libary square root function: 4.0\n",
      "The cmath library pi function: 3.141592653589793\n",
      "10 20 30 40 \n",
      "\n",
      "8\n",
      "32\n",
      "Random library's random integers between 1 and 10: 5\n",
      "{'John': {'key': 'John', 'name': 'John Saia', 'age': 20, 'pay': 65000}, 'Sam': {'key': 'Sam', 'name': 'Sam Lama', 'age': 31, 'pay': 100000}}\n",
      "Austin\n",
      "['John Saia', 'Data Science', '30']\n",
      "[]\n",
      "ParseResult(scheme='https', netloc='www.kut.org', path='/energy-environment/2022-10-14/austin-town-lake-garbage', params='', query='', fragment='')\n"
     ]
    }
   ],
   "source": [
    "# Import the following modules from Python’s Standard Library.\n",
    "# Demonstrate a minor example using functionality/capability from each\n",
    "# module in the list:\n",
    "\n",
    "import os, sys, math, cmath, itertools, functools, random, pickle, json, csv, urllib\n",
    "\n",
    "# os and sys: Tools for interfacing with the operating system, including navigating file\n",
    "# directory structures and executing shell commands\n",
    "\n",
    "print(\"The os name:\", os.name)\n",
    "print(\"The system reference count of G2:\", sys.getrefcount(\"G2\"))\n",
    "\n",
    "# math and cmath: Mathematical functions and operations on real and complex\n",
    "# numbers\n",
    "\n",
    "print(\"The math libary square root function:\", math.sqrt(16))\n",
    "\n",
    "print(\"The cmath library pi function:\", cmath.pi)\n",
    "\n",
    "# itertools: Tools for constructing and interacting with iterators and generators\n",
    "\n",
    "for x in itertools.count(10, 10):\n",
    "\n",
    "    if x > 40:\n",
    "        \n",
    "        break\n",
    "        \n",
    "    else:\n",
    "        \n",
    "        print(x, end =\" \")\n",
    "        \n",
    "print('\\n')\n",
    "\n",
    "# functools: Tools that assist with functional programming\n",
    "\n",
    "def power_custom(a, b):\n",
    "    return a**b\n",
    " \n",
    "pow5 = functools.partial(power_custom, b=5)\n",
    " \n",
    "print(power_custom(2, 3))\n",
    "print(pow5(2))\n",
    "\n",
    "# random: Tools for generating pseudorandom numbers\n",
    "\n",
    "print(\"Random library's random integers between 1 and 10:\", random.randint(1,10))\n",
    "\n",
    "# pickle: Tools for object persistence: saving objects to and loading objects from\n",
    "# disk\n",
    "\n",
    "John = {'key' : 'John', 'name' : 'John Saia',\n",
    "'age' : 20, 'pay' : 65000}\n",
    "Sam = {'key' : 'Sam', 'name' : 'Sam Lama',\n",
    "'age' : 31, 'pay' : 100000}\n",
    "  \n",
    "db = {}\n",
    "db['John'] = John\n",
    "db['Sam'] = Sam\n",
    "      \n",
    "with open('pickle_example.pickle', 'wb') as pickle_file:\n",
    "      pickle.dump(db, pickle_file)\n",
    "\n",
    "with open('pickle_example.pickle', 'rb') as pickle_file:\n",
    "    data1 = pickle.load(pickle_file)\n",
    "\n",
    "print(data1)\n",
    "\n",
    "# json and csv: Tools for reading JSON-formatted and CSV-formatted files.\n",
    "# JSON\n",
    "\n",
    "y =  '{ \"name\":\"Sam\", \"age\":20, \"city\":\"Austin\"}'\n",
    "\n",
    "x = json.loads(y)\n",
    "\n",
    "print(x[\"city\"])\n",
    "\n",
    "# CSV\n",
    "\n",
    "with open('example.csv', mode='w') as example_file:\n",
    "    \n",
    "    csv_writer = csv.writer(example_file, delimiter=',')\n",
    "    csv_writer.writerow(['John Saia', 'Data Science', '30'])\n",
    "\n",
    "with open('example.csv', mode='r') as example_file:\n",
    "    \n",
    "    csv_reader = csv.reader(example_file, delimiter=',')\n",
    "    \n",
    "    for row in csv_reader:\n",
    "        print(row)\n",
    "\n",
    "# urllib: Tools for doing HTTP and other web requests.\n",
    "\n",
    "parse_url = urllib.parse.urlparse('https://www.kut.org/energy-environment/2022-10-14/austin-town-lake-garbage')\n",
    "\n",
    "print(parse_url)"
   ]
  },
  {
   "cell_type": "markdown",
   "id": "27c835ea",
   "metadata": {},
   "source": [
    "## Requirement 13"
   ]
  },
  {
   "cell_type": "code",
   "execution_count": 10,
   "id": "ecb68666",
   "metadata": {},
   "outputs": [
    {
     "name": "stdout",
     "output_type": "stream",
     "text": [
      "All uppercase of x is: STRING EXAMPLE\n",
      "All lowercase of x is: string example\n",
      "Title formatting of titlex is: This Is The Title Of My Latest Novel\n",
      "Stripping of stripex is: Hi, everyone.\n",
      "0 stripping of zerostrip is: 782\n",
      "The index of example in x is: 7\n",
      "Does x start with the string, string?: True\n",
      "Does x end with the string, example?: True\n",
      "Replace string with example in x: example example\n",
      "Split titex words to list: ['this', 'is', 'the', 'title', 'of', 'my', 'latest', 'novel']\n",
      "Join list together with **: Everything**is**fine\n",
      "Everything\n",
      "is\n",
      "fine\n",
      "pi = 3.1415927\n"
     ]
    }
   ],
   "source": [
    "# Using string methods:\n",
    "\n",
    "x = \"string example\"\n",
    "\n",
    "# Demonstrate the conversion to upper-case and lower-case\n",
    "\n",
    "print(\"All uppercase of x is:\", x.upper())\n",
    "print(\"All lowercase of x is:\", x.lower())\n",
    "\n",
    "# Convert “this is the title of my latest novel” to a title\n",
    "\n",
    "titlex = \"this is the title of my latest novel\"\n",
    "\n",
    "print(\"Title formatting of titlex is:\", titlex.title())\n",
    "\n",
    "# Removing leading and trailing spaces\n",
    "\n",
    "stripex = \"    Hi, everyone.       \"\n",
    "print(\"Stripping of stripex is:\", stripex.strip())\n",
    "\n",
    "# Remove leading zeros\n",
    "\n",
    "zerostrip = \"000000000782\"\n",
    "\n",
    "print(\"0 stripping of zerostrip is:\", zerostrip.strip(\"0\"))\n",
    "\n",
    "# Return the index of a substring\n",
    "\n",
    "print(\"The index of example in x is:\", x.index(\"example\"))\n",
    "\n",
    "# Determine if a string ends with and begins with a substring\n",
    "\n",
    "print(\"Does x start with the string, string?:\", x.startswith(\"string\"))\n",
    "print(\"Does x end with the string, example?:\", x.endswith(\"example\"))\n",
    "\n",
    "# Replace a substring with another substring\n",
    "\n",
    "print(\"Replace string with example in x:\", x.replace(\"string\",\"example\"))\n",
    "\n",
    "# Split a string of words into a list of individual words\n",
    "\n",
    "print(\"Split titex words to list:\", titlex.split())\n",
    "\n",
    "# Join a list into a string using ** as separators\n",
    "\n",
    "print(\"Join list together with **:\", \"**\".join(['Everything', 'is', 'fine']))\n",
    "\n",
    "# Print list elements each on its own line using join()\n",
    "\n",
    "print(\"\\n\".join(['Everything', 'is', 'fine']))\n",
    "\n",
    "# Define pi = ‘3.14159265359’ Use format() to print pi to 7 decimal\n",
    "# places to the right of the decimal point\n",
    "\n",
    "pi = 3.14159265359\n",
    "\n",
    "print(\"pi = {0:.7f}\".format(pi))"
   ]
  },
  {
   "cell_type": "markdown",
   "id": "2f925a9e",
   "metadata": {},
   "source": [
    "## Requirement 14"
   ]
  },
  {
   "cell_type": "code",
   "execution_count": 11,
   "id": "406261d4",
   "metadata": {
    "scrolled": true
   },
   "outputs": [
    {
     "name": "stdout",
     "output_type": "stream",
     "text": [
      "'valid1@gmail.com' valid\n",
      "'valid2@gmail.com' valid\n",
      "'valid3@gmail.com' valid\n",
      "'invalid1!@amazon.com' invalid\n",
      "'invalid2@amazon.co' invalid\n",
      "'invalid3@amazon!.com' invalid\n"
     ]
    }
   ],
   "source": [
    "# Use the Regular Expression compile() method to create an email matcher\n",
    "# and demonstrate the matcher with 3 valid emails and 3 invalid emails.\n",
    "\n",
    "import re\n",
    "\n",
    "email = re.compile('\\w+@\\w+\\.[a-z]{3}')\n",
    "\n",
    "text = [\"valid1@gmail.com\", \"valid2@gmail.com\", \"valid3@gmail.com\",\n",
    "        \"invalid1!@amazon.com\", \"invalid2@amazon.co\", \"invalid3@amazon!.com\"]\n",
    "\n",
    "for valid in text:\n",
    "    \n",
    "    if email.match(valid):\n",
    "        \n",
    "        print(repr(valid), \"valid\")\n",
    "        \n",
    "    else:\n",
    "        \n",
    "        print(repr(valid), \"invalid\")"
   ]
  },
  {
   "cell_type": "markdown",
   "id": "9e98bdd0",
   "metadata": {},
   "source": [
    "## Requirement 15"
   ]
  },
  {
   "cell_type": "markdown",
   "id": "866ec058",
   "metadata": {},
   "source": [
    "Assignment 7 was good since it taught list comprehensions and string methods, which I think are really important concepts. I'm new to regex, so I'm excited to dive into that a bit more outside the assignment. I was not a fan of the import section requirement since some of the libraries are best used as small components of larger programs. Slapping something together is a bit tedious and led me to simply looking for the easiest usage possible, not learning anything useful about using the library. It was the least beneficial part, and even the book didn't really show the power of each library rather just tell us they exist."
   ]
  }
 ],
 "metadata": {
  "kernelspec": {
   "display_name": "Python 3 (ipykernel)",
   "language": "python",
   "name": "python3"
  },
  "language_info": {
   "codemirror_mode": {
    "name": "ipython",
    "version": 3
   },
   "file_extension": ".py",
   "mimetype": "text/x-python",
   "name": "python",
   "nbconvert_exporter": "python",
   "pygments_lexer": "ipython3",
   "version": "3.8.13"
  }
 },
 "nbformat": 4,
 "nbformat_minor": 5
}
