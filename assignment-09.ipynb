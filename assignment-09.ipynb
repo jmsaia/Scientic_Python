{
 "cells": [
  {
   "cell_type": "markdown",
   "id": "f86ade5d",
   "metadata": {},
   "source": [
    "# This is Assignment 09 - John Saia"
   ]
  },
  {
   "cell_type": "markdown",
   "id": "90c11388",
   "metadata": {},
   "source": [
    "## Requirement 4"
   ]
  },
  {
   "cell_type": "markdown",
   "id": "c3ce122b",
   "metadata": {},
   "source": [
    "Explain how NumPy arrays are like Python lists and how they are different. See multiple chapters for this information.\n",
    "\n",
    "Arrays and lists both contain data. NumPy arrays provide much more efficient storage and data operations as the arrays grow larger in size compared to Python lists. Python lists of different types contain a lot of redundant information. At the implementation level, the array essentially contains a single pointer to one contiguous block of data. The Python list, on the other hand, contains a pointer to a block of pointers, each of which in turn points to a full Python object. The advantage of the list is flexibility: because each list element is a full structure containing both data and type information, the list can be filled with data of any desired type. Fixed-type NumPy-style arrays lack this flexibility, but are much more efficient for storing and manipulating data."
   ]
  },
  {
   "cell_type": "markdown",
   "id": "e88f7e91",
   "metadata": {},
   "source": [
    "## Requirement 5"
   ]
  },
  {
   "cell_type": "markdown",
   "id": "120412a4",
   "metadata": {},
   "source": [
    "Explain how variable typing is performed in Python compared to how it is performed in a language like C.\n",
    "\n",
    "A statically-typed language like C or Java requires each variable to be explicitly declared, a dynamically-typed language like Python skips this specification."
   ]
  },
  {
   "cell_type": "markdown",
   "id": "6757ae4d",
   "metadata": {},
   "source": [
    "## Requirement 6"
   ]
  },
  {
   "cell_type": "markdown",
   "id": "8c5292e1",
   "metadata": {},
   "source": [
    "Explain how integer storage is performed in Python compared to how it is performed in a language like C.\n",
    "\n",
    "Every Python object is simply a cleverly-disguised C structure, which contains not only its value, but other information as well. In Python, such as x = 10000, x is not just a \"raw\" integer. It's actually a pointer to a compound C structure, which contains several values. A C integer is essentially a label for a position in memory whose bytes encode an integer value. A Python integer is a pointer to a position in memory containing all the Python object information, including the bytes that contain the integer value. This extra information in the Python integer structure is what allows Python to be coded so freely and dynamically. "
   ]
  },
  {
   "cell_type": "markdown",
   "id": "94d1c713",
   "metadata": {},
   "source": [
    "## Requirement 7"
   ]
  },
  {
   "cell_type": "code",
   "execution_count": 1,
   "id": "38e5ef31",
   "metadata": {},
   "outputs": [
    {
     "name": "stdout",
     "output_type": "stream",
     "text": [
      "[0, 1, 2, 3, 4, 5, 6, 7, 8, 9, 10, 11, 12, 13, 14, 15, 16, 17, 18, 19, 20]\n",
      "['0', '1', '2', '3', '4', '5', '6', '7', '8', '9', '10', '11', '12', '13', '14', '15', '16', '17', '18', '19', '20']\n",
      "<class 'int'>\n",
      "<class 'str'>\n"
     ]
    }
   ],
   "source": [
    "# Create a list (L1) of numbers 1-20. Convert the numbers in L1 to strings and store them in a new list (L2).\n",
    "\n",
    "L1 = list(range(21))\n",
    "\n",
    "L2 = [str(x) for x in L1]\n",
    "\n",
    "print(L1)\n",
    "print(L2)\n",
    "\n",
    "print(type(L1[1]))\n",
    "print(type(L2[2]))"
   ]
  },
  {
   "cell_type": "markdown",
   "id": "1d4de241",
   "metadata": {},
   "source": [
    "## Requirement 8"
   ]
  },
  {
   "cell_type": "code",
   "execution_count": 2,
   "id": "3efb8bcf",
   "metadata": {},
   "outputs": [
    {
     "data": {
      "text/plain": [
       "[bool, str, float, int, NoneType]"
      ]
     },
     "execution_count": 2,
     "metadata": {},
     "output_type": "execute_result"
    }
   ],
   "source": [
    "# Demonstrate a heterogeneous list with at least 5 different data types\n",
    "\n",
    "L3 = [False, \"5\", 6.0, 5, None]\n",
    "\n",
    "[type(item) for item in L3]"
   ]
  },
  {
   "cell_type": "markdown",
   "id": "2832958e",
   "metadata": {},
   "source": [
    "## Requirement 9"
   ]
  },
  {
   "cell_type": "code",
   "execution_count": 3,
   "id": "e6846ce9",
   "metadata": {},
   "outputs": [
    {
     "name": "stdout",
     "output_type": "stream",
     "text": [
      "array('i', [0, 1, 2, 3, 4])\n",
      "array('i', [0, 1, 2, 3, 4, 5])\n",
      "array('i', [0, 1, 2, 3, 10, 4, 5])\n",
      "4\n"
     ]
    },
    {
     "ename": "TypeError",
     "evalue": "an integer is required (got type str)",
     "output_type": "error",
     "traceback": [
      "\u001b[1;31m---------------------------------------------------------------------------\u001b[0m",
      "\u001b[1;31mTypeError\u001b[0m                                 Traceback (most recent call last)",
      "Input \u001b[1;32mIn [3]\u001b[0m, in \u001b[0;36m<cell line: 28>\u001b[1;34m()\u001b[0m\n\u001b[0;32m     24\u001b[0m \u001b[38;5;28mprint\u001b[39m(a\u001b[38;5;241m.\u001b[39mindex(\u001b[38;5;241m10\u001b[39m))\n\u001b[0;32m     26\u001b[0m \u001b[38;5;66;03m# attempt to insert an element of a different type\u001b[39;00m\n\u001b[1;32m---> 28\u001b[0m \u001b[43ma\u001b[49m\u001b[38;5;241;43m.\u001b[39;49m\u001b[43minsert\u001b[49m\u001b[43m(\u001b[49m\u001b[38;5;241;43m4\u001b[39;49m\u001b[43m,\u001b[49m\u001b[38;5;124;43m\"\u001b[39;49m\u001b[38;5;124;43mhi\u001b[39;49m\u001b[38;5;124;43m\"\u001b[39;49m\u001b[43m)\u001b[49m\n\u001b[0;32m     30\u001b[0m \u001b[38;5;28mprint\u001b[39m(a)\n",
      "\u001b[1;31mTypeError\u001b[0m: an integer is required (got type str)"
     ]
    }
   ],
   "source": [
    "# Create a Python array using the built-in array module. Demonstrate the following operations on the array:\n",
    "\n",
    "import array\n",
    "\n",
    "x = list(range(5))\n",
    "a = array.array(\"i\", x)\n",
    "\n",
    "print(a)\n",
    "\n",
    "# append\n",
    "\n",
    "a.append(5)\n",
    "\n",
    "print(a)\n",
    "\n",
    "# insert\n",
    "\n",
    "a.insert(4,10)\n",
    "\n",
    "print(a)\n",
    "\n",
    "# index\n",
    "\n",
    "print(a.index(10))\n",
    "\n",
    "# attempt to insert an element of a different type\n",
    "\n",
    "a.insert(4,\"hi\")\n",
    "\n",
    "print(a)"
   ]
  },
  {
   "cell_type": "markdown",
   "id": "bf3d9689",
   "metadata": {},
   "source": [
    "## Requirement 10"
   ]
  },
  {
   "cell_type": "code",
   "execution_count": 4,
   "id": "38c96b76",
   "metadata": {},
   "outputs": [
    {
     "name": "stdout",
     "output_type": "stream",
     "text": [
      "[1.1 1.2 1.3 1.4 1.5 1.6 1.7 1.8 1.9 2. ]\n",
      "[1.1 1.2 1.3 1.4 1.5 1.6 1.7 1.8 1.9 2. ]\n"
     ]
    }
   ],
   "source": [
    "# Create a NumPy array of 10 floats named one_d_array. Demonstrate the following operations on the array:\n",
    "\n",
    "import numpy as np\n",
    "\n",
    "# implicit casting (the author calls this up-casting)\n",
    "\n",
    "one_d_array = np.array([1.1, 1.2, 1.3, 1.4, 1.5, 1.6, 1.7, 1.8, 1.9, 2.0])\n",
    "\n",
    "print(one_d_array)\n",
    "\n",
    "# explicit casting\n",
    "\n",
    "one_d_array = np.array([1.1, 1.2, 1.3, 1.4, 1.5, 1.6, 1.7, 1.8, 1.9, 2.0], dtype='float32')\n",
    "\n",
    "print(one_d_array)"
   ]
  },
  {
   "cell_type": "markdown",
   "id": "6f26ade9",
   "metadata": {},
   "source": [
    "## Requirement 11"
   ]
  },
  {
   "cell_type": "code",
   "execution_count": 5,
   "id": "6ffc75b3",
   "metadata": {},
   "outputs": [
    {
     "data": {
      "text/plain": [
       "array([[1, 2, 3],\n",
       "       [2, 3, 4],\n",
       "       [3, 4, 5],\n",
       "       [4, 5, 6],\n",
       "       [5, 6, 7]])"
      ]
     },
     "execution_count": 5,
     "metadata": {},
     "output_type": "execute_result"
    }
   ],
   "source": [
    "# Use list comprehension to create a two-dimensional NumPy array named\n",
    "# two_d_array with 5 rows and 3 columns with the following content:\n",
    "\n",
    "two_d_array = np.array([range(i, i + 3) for i in [1, 2, 3, 4, 5]])\n",
    "\n",
    "two_d_array"
   ]
  },
  {
   "cell_type": "markdown",
   "id": "73ab1e45",
   "metadata": {},
   "source": [
    "## Requirement 12"
   ]
  },
  {
   "cell_type": "code",
   "execution_count": 6,
   "id": "077f3456",
   "metadata": {},
   "outputs": [
    {
     "name": "stdout",
     "output_type": "stream",
     "text": [
      "[[[20 17 52 23 51]\n",
      "  [12 85 28 97 80]\n",
      "  [17 39 87 76 69]\n",
      "  [ 5 92 32 41 91]\n",
      "  [ 7 82 60 98 46]]\n",
      "\n",
      " [[25 49 86 81 10]\n",
      "  [76 64 32 99 84]\n",
      "  [66 86  2 37  2]\n",
      "  [39 46 61 83 77]\n",
      "  [70  2 20 62 35]]\n",
      "\n",
      " [[13 88 11 68 32]\n",
      "  [ 8 75 63 98 31]\n",
      "  [84 51 94 75 36]\n",
      "  [37 30 20 14 33]\n",
      "  [60 93 40 28 89]]]\n",
      "Memory size of numpy array in bytes: 300\n"
     ]
    }
   ],
   "source": [
    "# Create a 3-dimensional NumPy array named three_d_array with random\n",
    "# numbers between 0-99. The shape of the array should be (3, 5, 5). Also\n",
    "# display the size in bytes of the array.\n",
    "\n",
    "three_d_array = np.random.randint(100, size=(3, 5, 5))\n",
    "\n",
    "print(three_d_array)\n",
    "\n",
    "siz = three_d_array.nbytes\n",
    "\n",
    "print(f'Memory size of numpy array in bytes: {siz}')\n"
   ]
  },
  {
   "cell_type": "markdown",
   "id": "f58b5daa",
   "metadata": {},
   "source": [
    "## Requirement 13"
   ]
  },
  {
   "cell_type": "code",
   "execution_count": 7,
   "id": "025aa372",
   "metadata": {},
   "outputs": [
    {
     "name": "stdout",
     "output_type": "stream",
     "text": [
      "85\n",
      "86\n",
      "20\n",
      "89\n"
     ]
    }
   ],
   "source": [
    "# Demonstrate accessing 4 different individual elements of the three_d_array\n",
    "\n",
    "print(three_d_array[0,1,1])\n",
    "print(three_d_array[1,2,1])\n",
    "print(three_d_array[2,3,2])\n",
    "print(three_d_array[2,4,4])"
   ]
  },
  {
   "cell_type": "markdown",
   "id": "f9f5a2d9",
   "metadata": {},
   "source": [
    "## Requirement 14"
   ]
  },
  {
   "cell_type": "code",
   "execution_count": 8,
   "id": "4b395aed",
   "metadata": {},
   "outputs": [
    {
     "name": "stdout",
     "output_type": "stream",
     "text": [
      "[[[20 17 52 23 51]\n",
      "  [12  5 28 97 80]\n",
      "  [17 39 87 76 69]\n",
      "  [ 5 92 32 41 91]\n",
      "  [ 7 82 60 98 46]]\n",
      "\n",
      " [[25 49 86 81 10]\n",
      "  [76 64 32 99 84]\n",
      "  [66 10  2 37  2]\n",
      "  [39 46 61 83 77]\n",
      "  [70  2 20 62 35]]\n",
      "\n",
      " [[13 88 11 68 32]\n",
      "  [ 8 75 63 98 31]\n",
      "  [84 51 94 75 36]\n",
      "  [37 30 15 14 33]\n",
      "  [60 93 40 28 20]]]\n"
     ]
    }
   ],
   "source": [
    "# Demonstrate modifying 4 different individual elements of the three_d_array\n",
    "\n",
    "three_d_array[0,1,1] = 5\n",
    "three_d_array[1,2,1] = 10\n",
    "three_d_array[2,3,2] = 15\n",
    "three_d_array[2,4,4] = 20\n",
    "\n",
    "print(three_d_array)"
   ]
  },
  {
   "cell_type": "markdown",
   "id": "a5f6f512",
   "metadata": {},
   "source": [
    "## Requirement 15"
   ]
  },
  {
   "cell_type": "code",
   "execution_count": 19,
   "id": "e5ca7165",
   "metadata": {},
   "outputs": [
    {
     "name": "stdout",
     "output_type": "stream",
     "text": [
      "[1.1 1.2 1.3 1.4 1.5 1.6 1.7]\n",
      "[1.8 1.9 2. ]\n",
      "[1.4 1.5 1.6 1.7 1.8]\n",
      "[1.1 1.3 1.5 1.7 1.9]\n",
      "[2.  1.9 1.8 1.7 1.6 1.5 1.4 1.3 1.2 1.1]\n",
      "[1.8 1.6 1.4 1.2]\n"
     ]
    }
   ],
   "source": [
    "# Using one_d_array, demonstrate slicing:\n",
    "# the first 7 elements\n",
    "\n",
    "print(one_d_array[:7])\n",
    "\n",
    "# all after index 7\n",
    "\n",
    "print(one_d_array[7:])\n",
    "\n",
    "# from index 3 to index 8\n",
    "\n",
    "print(one_d_array[3:8])\n",
    "\n",
    "# every other element\n",
    "\n",
    "print(one_d_array[::2])\n",
    "\n",
    "# elements reversed\n",
    "\n",
    "print(one_d_array[::-1])\n",
    "\n",
    "#reverse every other element from index 7\n",
    "\n",
    "print(one_d_array[7::-2])"
   ]
  },
  {
   "cell_type": "markdown",
   "id": "b3e53318",
   "metadata": {},
   "source": [
    "## Requirement 16"
   ]
  },
  {
   "cell_type": "code",
   "execution_count": 10,
   "id": "af88c984",
   "metadata": {},
   "outputs": [
    {
     "name": "stdout",
     "output_type": "stream",
     "text": [
      "[[1 2]\n",
      " [2 3]]\n",
      "\n",
      "\n",
      "[[1 3]\n",
      " [2 4]\n",
      " [3 5]\n",
      " [4 6]\n",
      " [5 7]]\n",
      "\n",
      "\n",
      "[[1 2 3]\n",
      " [3 4 5]\n",
      " [5 6 7]]\n",
      "\n",
      "\n",
      "[[1 2 3]\n",
      " [2 3 4]\n",
      " [3 4 5]]\n"
     ]
    }
   ],
   "source": [
    "# Using two_d_array, demonstrate slicing:\n",
    "\n",
    "# first 2 rows and first 2 columns\n",
    "\n",
    "print(two_d_array[:2, :2])\n",
    "print('\\n')\n",
    "\n",
    "# all rows and every other column\n",
    "\n",
    "print(two_d_array[:,::2])\n",
    "print('\\n')\n",
    "\n",
    "# all columns and every other row\n",
    "\n",
    "print(two_d_array[::2,:])\n",
    "print('\\n')\n",
    "\n",
    "# extracting a subarray\n",
    "\n",
    "sub_array = two_d_array[:3,:3]\n",
    "\n",
    "print(sub_array)"
   ]
  },
  {
   "cell_type": "markdown",
   "id": "77479462",
   "metadata": {},
   "source": [
    "## Requirement 17"
   ]
  },
  {
   "cell_type": "code",
   "execution_count": 11,
   "id": "36d56fac",
   "metadata": {},
   "outputs": [
    {
     "data": {
      "text/plain": [
       "array([[  1,   2,   3,   4,   5,   6,   7,   8,   9,  10],\n",
       "       [ 11,  12,  13,  14,  15,  16,  17,  18,  19,  20],\n",
       "       [ 21,  22,  23,  24,  25,  26,  27,  28,  29,  30],\n",
       "       [ 31,  32,  33,  34,  35,  36,  37,  38,  39,  40],\n",
       "       [ 41,  42,  43,  44,  45,  46,  47,  48,  49,  50],\n",
       "       [ 51,  52,  53,  54,  55,  56,  57,  58,  59,  60],\n",
       "       [ 61,  62,  63,  64,  65,  66,  67,  68,  69,  70],\n",
       "       [ 71,  72,  73,  74,  75,  76,  77,  78,  79,  80],\n",
       "       [ 81,  82,  83,  84,  85,  86,  87,  88,  89,  90],\n",
       "       [ 91,  92,  93,  94,  95,  96,  97,  98,  99, 100]])"
      ]
     },
     "execution_count": 11,
     "metadata": {},
     "output_type": "execute_result"
    }
   ],
   "source": [
    "# Use NumPy’s arrange and reshape methods to create a 10x10 array with\n",
    "# values as shown:\n",
    "\n",
    "np.arange(1, 101).reshape((10, 10))"
   ]
  },
  {
   "cell_type": "markdown",
   "id": "1d9f3157",
   "metadata": {},
   "source": [
    "## Requirement 18"
   ]
  },
  {
   "cell_type": "code",
   "execution_count": 12,
   "id": "a6730cbf",
   "metadata": {},
   "outputs": [
    {
     "name": "stdout",
     "output_type": "stream",
     "text": [
      "[[1.1 1.2 1.3 1.4 1.5 1.6 1.7 1.8 1.9 2. ]]\n",
      "\n",
      "\n",
      "[[1.1]\n",
      " [1.2]\n",
      " [1.3]\n",
      " [1.4]\n",
      " [1.5]\n",
      " [1.6]\n",
      " [1.7]\n",
      " [1.8]\n",
      " [1.9]\n",
      " [2. ]]\n"
     ]
    }
   ],
   "source": [
    "# Using one_d_array, create a row vector\n",
    "\n",
    "print(one_d_array[np.newaxis, :])\n",
    "print('\\n')\n",
    "\n",
    "# column vector\n",
    "\n",
    "print(one_d_array[:, np.newaxis])\n"
   ]
  },
  {
   "cell_type": "markdown",
   "id": "5bb4b5db",
   "metadata": {},
   "source": [
    "## Requirement 19"
   ]
  },
  {
   "cell_type": "markdown",
   "id": "bbaae7f6",
   "metadata": {},
   "source": [
    "Explain what a NumPy universal function is and why they are useful\n",
    "\n",
    "Computation on NumPy arrays can be very fast, or it can be very slow. The key to making it fast is to use vectorized operations, generally implemented through NumPy's universal functions (ufuncs). They can be used to make repeated calculations on array elements much more efficient. For many types of operations, NumPy provides a convenient interface into just this kind of statically typed, compiled routine. This is known as a vectorized operation. This can be accomplished by simply performing an operation on the array, which will then be applied to each element. This vectorized approach is designed to push the loop into the compiled layer that underlies NumPy, leading to much faster execution. Vectorized operations in NumPy are implemented via ufuncs, whose main purpose is to quickly execute repeated operations on values in NumPy arrays. Ufuncs are extremely flexible. Computations using vectorization through ufuncs are nearly always more efficient than their counterpart implemented using Python loops, especially as the arrays grow in size. Any time you see such a loop in a Python script, you should consider whether it can be replaced with a vectorized expression."
   ]
  },
  {
   "cell_type": "markdown",
   "id": "17e9a36e",
   "metadata": {},
   "source": [
    "## Requirement 20"
   ]
  },
  {
   "cell_type": "code",
   "execution_count": 13,
   "id": "c0252aa6",
   "metadata": {},
   "outputs": [
    {
     "name": "stdout",
     "output_type": "stream",
     "text": [
      "[22. 24. 26. 28. 30. 32. 34. 36. 38. 40.]\n"
     ]
    }
   ],
   "source": [
    "# Demonstrate the use of the out argument\n",
    "\n",
    "y = np.empty(10)\n",
    "np.multiply(one_d_array, 20, out=y)\n",
    "print(y)"
   ]
  },
  {
   "cell_type": "markdown",
   "id": "13b2a4c5",
   "metadata": {},
   "source": [
    "## Requirement 21"
   ]
  },
  {
   "cell_type": "code",
   "execution_count": 14,
   "id": "93f77449",
   "metadata": {},
   "outputs": [
    {
     "data": {
      "text/plain": [
       "67.04425"
      ]
     },
     "execution_count": 14,
     "metadata": {},
     "output_type": "execute_result"
    }
   ],
   "source": [
    "# Use aggregates to show the product of all elements of one_d_array.\n",
    "\n",
    "\n",
    "np.multiply.reduce(one_d_array)"
   ]
  },
  {
   "cell_type": "markdown",
   "id": "a05533ce",
   "metadata": {},
   "source": [
    "## Requirement 22"
   ]
  },
  {
   "cell_type": "code",
   "execution_count": 15,
   "id": "30dc2b61",
   "metadata": {},
   "outputs": [
    {
     "name": "stdout",
     "output_type": "stream",
     "text": [
      "x = [1 2 3 4 5]\n",
      "y = [2 2 2 2 2]\n"
     ]
    },
    {
     "data": {
      "text/plain": [
       "array([[ 2,  2,  2,  2,  2],\n",
       "       [ 4,  4,  4,  4,  4],\n",
       "       [ 6,  6,  6,  6,  6],\n",
       "       [ 8,  8,  8,  8,  8],\n",
       "       [10, 10, 10, 10, 10]])"
      ]
     },
     "execution_count": 15,
     "metadata": {},
     "output_type": "execute_result"
    }
   ],
   "source": [
    "# Create the NumPy arrays x and y below and use the multiply() and outer()\n",
    "# methods to produce the output as shown.\n",
    "\n",
    "x = np.arange(1, 6)\n",
    "y = np.full(5,2)\n",
    "\n",
    "print('x =', x)\n",
    "print('y =', y)\n",
    "\n",
    "np.multiply.outer(x,y)"
   ]
  },
  {
   "cell_type": "markdown",
   "id": "b736cd2b",
   "metadata": {},
   "source": [
    "## Requirement 23"
   ]
  },
  {
   "cell_type": "code",
   "execution_count": 16,
   "id": "e1e1ded2",
   "metadata": {},
   "outputs": [
    {
     "name": "stdout",
     "output_type": "stream",
     "text": [
      "23.834948819939246\n",
      "1.92 µs ± 95.2 ns per loop (mean ± std. dev. of 7 runs, 1,000,000 loops each)\n",
      "6.63 µs ± 163 ns per loop (mean ± std. dev. of 7 runs, 100,000 loops each)\n",
      "1 7\n",
      "1.89 µs ± 53.5 ns per loop (mean ± std. dev. of 7 runs, 100,000 loops each)\n",
      "2.67 µs ± 488 ns per loop (mean ± std. dev. of 7 runs, 1,000,000 loops each)\n",
      "4.68 µs ± 295 ns per loop (mean ± std. dev. of 7 runs, 100,000 loops each)\n",
      "4.43 µs ± 163 ns per loop (mean ± std. dev. of 7 runs, 100,000 loops each)\n"
     ]
    }
   ],
   "source": [
    "# Demonstrate NumPy’s sum, min, and max functions. Use the %timeit\n",
    "# magic function to compare the performance to Python’s built-in sum, min,\n",
    "# and max functions.\n",
    "\n",
    "x = np.random.random(50)\n",
    "\n",
    "print(x.sum())\n",
    "\n",
    "%timeit x.sum()\n",
    "%timeit sum(x)\n",
    "\n",
    "print(two_d_array.min(), two_d_array.max())\n",
    "\n",
    "%timeit two_d_array.min()\n",
    "%timeit two_d_array.max()\n",
    "%timeit min(x)\n",
    "%timeit max(x)"
   ]
  },
  {
   "cell_type": "markdown",
   "id": "181254be",
   "metadata": {},
   "source": [
    "## Requirement 24"
   ]
  },
  {
   "cell_type": "code",
   "execution_count": 17,
   "id": "b9892295",
   "metadata": {},
   "outputs": [
    {
     "data": {
      "image/png": "[encoded data removed]",
      "text/plain": [
       "<Figure size 432x288 with 1 Axes>"
      ]
     },
     "metadata": {},
     "output_type": "display_data"
    }
   ],
   "source": [
    "# Use the file president_heights.csv to produce a histogram of U.S. President height information.\n",
    "\n",
    "import pandas as pd\n",
    "data = pd.read_csv(r'C:\\Users\\punxi\\OneDrive\\Desktop\\president_heights.csv')\n",
    "heights = np.array(data['height(cm)'])\n",
    "\n",
    "%matplotlib inline\n",
    "import matplotlib.pyplot as plt\n",
    "import seaborn; seaborn.set() \n",
    "\n",
    "plt.hist(heights)\n",
    "plt.title('Height Distribution of US Presidents')\n",
    "plt.xlabel('height (cm)')\n",
    "plt.ylabel('number');"
   ]
  },
  {
   "cell_type": "markdown",
   "id": "e391475f",
   "metadata": {},
   "source": [
    "# Requirement 25"
   ]
  },
  {
   "cell_type": "code",
   "execution_count": 18,
   "id": "295413d7",
   "metadata": {
    "scrolled": true
   },
   "outputs": [
    {
     "name": "stderr",
     "output_type": "stream",
     "text": [
      "C:\\Users\\punxi\\AppData\\Local\\Temp\\ipykernel_13028\\3946872632.py:11: MatplotlibDeprecationWarning: Auto-removal of grids by pcolor() and pcolormesh() is deprecated since 3.5 and will be removed two minor releases later; please call grid(False) first.\n",
      "  plt.colorbar();\n"
     ]
    },
    {
     "data": {
      "image/png": "[encoded data removed]",
      "text/plain": [
       "<Figure size 432x288 with 2 Axes>"
      ]
     },
     "metadata": {},
     "output_type": "display_data"
    }
   ],
   "source": [
    "# Use broadcasting and Matplotlib to plot produce a plot of a two dimensional array.\n",
    "\n",
    "x = np.linspace(0, 10, 40)\n",
    "y = np.linspace(0, 10, 40)[:, np.newaxis]\n",
    "\n",
    "z = np.sin(x) ** 10 + np.cos(10 + y * x) * np.cos(x)\n",
    "\n",
    "plt.imshow(z, origin='lower', extent=[0, 5, 0, 5],\n",
    "           cmap='viridis')\n",
    "\n",
    "plt.colorbar();"
   ]
  },
  {
   "cell_type": "markdown",
   "id": "6d89c5ec",
   "metadata": {},
   "source": [
    "## Requirement 26"
   ]
  },
  {
   "cell_type": "markdown",
   "id": "1d8b256d",
   "metadata": {},
   "source": [
    "This assignment was a general overview of arrays. I primarily viewed numpy to be useful in making graphs prior to the assignment. I liked the use of time command to see the difference between python built-in functions and numpy functions. I liked understanding what was behind why C is faster that python."
   ]
  }
 ],
 "metadata": {
  "kernelspec": {
   "display_name": "Python 3 (ipykernel)",
   "language": "python",
   "name": "python3"
  },
  "language_info": {
   "codemirror_mode": {
    "name": "ipython",
    "version": 3
   },
   "file_extension": ".py",
   "mimetype": "text/x-python",
   "name": "python",
   "nbconvert_exporter": "python",
   "pygments_lexer": "ipython3",
   "version": "3.8.13"
  }
 },
 "nbformat": 4,
 "nbformat_minor": 5
}
