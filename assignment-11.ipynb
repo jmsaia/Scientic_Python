{
 "cells": [
  {
   "cell_type": "markdown",
   "id": "26fb91ee",
   "metadata": {},
   "source": [
    "# This is Assignment 11 - John Saia"
   ]
  },
  {
   "cell_type": "markdown",
   "id": "13970c2d",
   "metadata": {},
   "source": [
    "## Requirement 3"
   ]
  },
  {
   "cell_type": "markdown",
   "id": "9b367930",
   "metadata": {},
   "source": [
    "In your own words, describe the commonalities and differences between NumPy arrays and Pandas series.\n",
    "\n",
    "Numpy creates and allows manipulations of lists/arrays in an efficent fashion particularly numerical. Pandas is built on top of the Numpy library and enables better manipulation of dataframes type uses. Pandas aids in labeling, missing data values, grouping, and pivots. Numpy is thought more in terms of indicies."
   ]
  },
  {
   "cell_type": "markdown",
   "id": "0f016460",
   "metadata": {},
   "source": [
    "## Requirement 4"
   ]
  },
  {
   "cell_type": "code",
   "execution_count": 1,
   "id": "50e1f42f",
   "metadata": {},
   "outputs": [
    {
     "data": {
      "text/plain": [
       "1    Washington\n",
       "2      Jeffeson\n",
       "3      Hamilton\n",
       "4       Lincoln\n",
       "5       Jackson\n",
       "6         Grant\n",
       "7      Franklin\n",
       "dtype: object"
      ]
     },
     "execution_count": 1,
     "metadata": {},
     "output_type": "execute_result"
    }
   ],
   "source": [
    "# Create a Pandas series named bill_names with American currency bill\n",
    "# denominations as indices (keys) and President last names as values. For\n",
    "# example: 1 – Washington, 2 – Jefferson, etc.\n",
    "\n",
    "import pandas as pd\n",
    "\n",
    "bill_names = pd.Series(['Washington', 'Jeffeson', 'Hamilton', 'Lincoln', 'Jackson', 'Grant', 'Franklin'],\n",
    "                       index=[1, 2, 3, 4, 5, 6, 7])\n",
    "\n",
    "bill_names"
   ]
  },
  {
   "cell_type": "markdown",
   "id": "111c4375",
   "metadata": {},
   "source": [
    "## Requirement 5"
   ]
  },
  {
   "cell_type": "code",
   "execution_count": 2,
   "id": "c17eefb1",
   "metadata": {},
   "outputs": [
    {
     "name": "stdout",
     "output_type": "stream",
     "text": [
      "It has a cherry like sweet spiciness\n",
      "\n",
      "\n",
      "It has a citrus taste\n",
      "\n",
      "\n",
      "Root Beer       It is smooth with a sweet vanilla taste\n",
      "Mountain Dew                      It has a citrus taste\n",
      "dtype: object\n",
      "\n",
      "\n",
      "Dr. Pepper         It has a cherry like sweet spiciness\n",
      "Root Beer       It is smooth with a sweet vanilla taste\n",
      "Mountain Dew                      It has a citrus taste\n",
      "dtype: object\n"
     ]
    }
   ],
   "source": [
    "# Create a Pandas series-as-dictionary beverages_dict. Make the indices\n",
    "# beverage names and comments about the beverage as values. For example:\n",
    "# ‘Aquafina’: ‘This is my favorite bottled water!’. Demonstrate accessing:\n",
    "# individual values via the keys\n",
    "\n",
    "beverages_dict = pd.Series({'Dr. Pepper':'It has a cherry like sweet spiciness',\n",
    "                            'Root Beer': 'It is smooth with a sweet vanilla taste',\n",
    "                            'Mountain Dew': 'It has a citrus taste'})\n",
    "\n",
    "print(beverages_dict['Dr. Pepper'])\n",
    "print('\\n')\n",
    "print(beverages_dict['Mountain Dew'])\n",
    "print('\\n')\n",
    "\n",
    "# multiple values via slicing\n",
    "\n",
    "print(beverages_dict['Root Beer':])\n",
    "print('\\n')\n",
    "\n",
    "print(beverages_dict['Dr. Pepper':'Mountain Dew'])"
   ]
  },
  {
   "cell_type": "markdown",
   "id": "bb2f0f91",
   "metadata": {},
   "source": [
    "## Requirement 6"
   ]
  },
  {
   "cell_type": "code",
   "execution_count": 3,
   "id": "8b97013c",
   "metadata": {},
   "outputs": [
    {
     "data": {
      "text/plain": [
       "Chongquing     32054159\n",
       "Shanghai       24870895\n",
       "Tokyo          13960000\n",
       "Moscow         13010112\n",
       "Mexico City     9209944\n",
       "London          8799800\n",
       "New York        8804190\n",
       "dtype: int64"
      ]
     },
     "execution_count": 3,
     "metadata": {},
     "output_type": "execute_result"
    }
   ],
   "source": [
    "# Obtain the real city proper population data for the following cities:\n",
    "# Chongquing, Shanghai, Tokyo, Moscow, Mexico City, London, & New York.\n",
    "# Create a series-as-dictionary named population based on this information\n",
    "\n",
    "population = pd.Series({'Chongquing': 32054159,\n",
    "                        'Shanghai': 24870895,\n",
    "                        'Tokyo': 13960000,\n",
    "                        'Moscow': 13010112,\n",
    "                        'Mexico City': 9209944,\n",
    "                        'London': 8799800,\n",
    "                        'New York': 8804190})\n",
    "\n",
    "population"
   ]
  },
  {
   "cell_type": "markdown",
   "id": "5a6b83f1",
   "metadata": {},
   "source": [
    "## Requirement 7"
   ]
  },
  {
   "cell_type": "code",
   "execution_count": 4,
   "id": "e258f3b7",
   "metadata": {},
   "outputs": [
    {
     "data": {
      "text/plain": [
       "Chongquing              China\n",
       "Shanghai                China\n",
       "Tokyo                   Japan\n",
       "Moscow                 Russia\n",
       "Mexico City            Mexico\n",
       "London         United Kingdom\n",
       "New York        United States\n",
       "dtype: object"
      ]
     },
     "execution_count": 4,
     "metadata": {},
     "output_type": "execute_result"
    }
   ],
   "source": [
    "# Create a Pandas series-as-dictionary named city_country with the cities in\n",
    "# population and the countries for each city.\n",
    "\n",
    "city_country = pd.Series({'Chongquing': 'China',\n",
    "                          'Shanghai': 'China',\n",
    "                          'Tokyo': 'Japan',\n",
    "                          'Moscow': 'Russia',\n",
    "                          'Mexico City': 'Mexico',\n",
    "                          'London': 'United Kingdom',\n",
    "                          'New York': 'United States'})\n",
    "\n",
    "city_country"
   ]
  },
  {
   "cell_type": "markdown",
   "id": "18b43d78",
   "metadata": {},
   "source": [
    "## Requirement 8"
   ]
  },
  {
   "cell_type": "code",
   "execution_count": 5,
   "id": "8492ef44",
   "metadata": {},
   "outputs": [
    {
     "name": "stdout",
     "output_type": "stream",
     "text": [
      "             Population         Country\n",
      "Chongquing     32054159           China\n",
      "Shanghai       24870895           China\n",
      "Tokyo          13960000           Japan\n",
      "Moscow         13010112          Russia\n",
      "Mexico City     9209944          Mexico\n",
      "London          8799800  United Kingdom\n",
      "New York        8804190   United States\n",
      "\n",
      "\n",
      "Index(['Chongquing', 'Shanghai', 'Tokyo', 'Moscow', 'Mexico City', 'London',\n",
      "       'New York'],\n",
      "      dtype='object')\n",
      "\n",
      "\n",
      "Index(['Population', 'Country'], dtype='object')\n",
      "\n",
      "\n",
      "Index(['Population', 'Country'], dtype='object')\n"
     ]
    }
   ],
   "source": [
    "# Create a Pandas dataframe object named city_dataframe from a dictionary\n",
    "# of series objects using population and city_country. Show:\n",
    "\n",
    "city_dataframe = pd.DataFrame({'Population': population,\n",
    "                               'Country': city_country})\n",
    "\n",
    "print(city_dataframe)\n",
    "print('\\n')\n",
    "\n",
    "# the .index property\n",
    "\n",
    "print(city_dataframe.index)\n",
    "print('\\n')\n",
    "\n",
    "# the .columns property\n",
    "\n",
    "print(city_dataframe.columns)\n",
    "print('\\n')\n",
    "\n",
    "# the .keys() method\n",
    "\n",
    "print(city_dataframe.keys())"
   ]
  },
  {
   "cell_type": "markdown",
   "id": "071da2d2",
   "metadata": {},
   "source": [
    "## Requirement 9"
   ]
  },
  {
   "cell_type": "code",
   "execution_count": 6,
   "id": "fe7a14a2",
   "metadata": {},
   "outputs": [
    {
     "name": "stdout",
     "output_type": "stream",
     "text": [
      "hihihi       101010\n",
      "byebyebye    202020\n",
      "hello        404040\n",
      "dtype: int64\n",
      "\n",
      "\n",
      "hihihi       101010\n",
      "byebyebye    303030\n",
      "hello        404040\n",
      "dtype: int64\n",
      "\n",
      "\n",
      "byebyebye    303030\n",
      "hello        404040\n",
      "dtype: int64\n",
      "\n",
      "\n",
      "hihihi       101010\n",
      "byebyebye    303030\n",
      "dtype: int64\n",
      "\n",
      "\n",
      "hihihi    101010\n",
      "dtype: int64\n",
      "\n",
      "\n",
      "hihihi    101010\n",
      "hello     404040\n",
      "dtype: int64\n",
      "\n",
      "\n",
      "404040\n",
      "\n",
      "\n",
      "303030\n"
     ]
    }
   ],
   "source": [
    "# Create a Pandas series object named my_pd_series from a collection of\n",
    "# string keys and collection of numeric values of your choosing. Demonstrate:\n",
    "\n",
    "my_pd_series = pd.Series({'hihihi':101010, 'byebyebye':202020, 'hello':404040})\n",
    "\n",
    "print(my_pd_series)\n",
    "print('\\n')\n",
    "\n",
    "# modifying a value based on key\n",
    "\n",
    "my_pd_series['byebyebye'] = 303030\n",
    "\n",
    "print(my_pd_series)\n",
    "print('\\n')\n",
    "\n",
    "# slicing by explicit index\n",
    "\n",
    "print(my_pd_series['byebyebye':'hello'])\n",
    "print('\\n')\n",
    "\n",
    "# slicing by implicit integer index\n",
    "\n",
    "print(my_pd_series[0:2])\n",
    "print('\\n')\n",
    "\n",
    "# masking\n",
    "\n",
    "print(my_pd_series[my_pd_series < 202020])\n",
    "print('\\n')\n",
    "\n",
    "# fancy indexing\n",
    "\n",
    "print(my_pd_series[['hihihi','hello']])\n",
    "print('\\n')\n",
    "\n",
    "# loc[]\n",
    "\n",
    "print(my_pd_series.loc['hello'])\n",
    "print('\\n')\n",
    "\n",
    "# iloc[]\n",
    "\n",
    "print(my_pd_series.iloc[1])"
   ]
  },
  {
   "cell_type": "markdown",
   "id": "03f75228",
   "metadata": {},
   "source": [
    "## Requirement 10"
   ]
  },
  {
   "cell_type": "code",
   "execution_count": 7,
   "id": "cba8b1d1",
   "metadata": {},
   "outputs": [
    {
     "name": "stdout",
     "output_type": "stream",
     "text": [
      "Chongquing              China\n",
      "Shanghai                China\n",
      "Tokyo                   Japan\n",
      "Moscow                 Russia\n",
      "Mexico City            Mexico\n",
      "London         United Kingdom\n",
      "New York        United States\n",
      "Name: Country, dtype: object\n",
      "\n",
      "\n",
      "Chongquing              China\n",
      "Shanghai                China\n",
      "Tokyo                   Japan\n",
      "Moscow                 Russia\n",
      "Mexico City            Mexico\n",
      "London         United Kingdom\n",
      "New York        United States\n",
      "Name: Country, dtype: object\n",
      "\n",
      "\n",
      "             Population         Country  Altitude\n",
      "Chongquing     32054159           China    801.00\n",
      "Shanghai       24870895           China     13.12\n",
      "Tokyo          13960000           Japan    131.00\n",
      "Moscow         13010112          Russia    512.00\n",
      "Mexico City     9209944          Mexico   7319.00\n",
      "London          8799800  United Kingdom     36.00\n",
      "New York        8804190   United States     33.00\n"
     ]
    }
   ],
   "source": [
    "# Using city_dataframe, demonstrate:\n",
    "# access column via dictionary-style indexing of the column name\n",
    "\n",
    "print(city_dataframe['Country'])\n",
    "print('\\n')\n",
    "\n",
    "# access column via column names that are strings\n",
    "\n",
    "print(city_dataframe.Country)\n",
    "print('\\n')\n",
    "\n",
    "# add a new column to the city_dataframe named altitude.\n",
    "\n",
    "city_dataframe['altitude'] = [801, 13.12, 131, 512, 7319, 36, 33]\n",
    "\n",
    "altitude = pd.Series({'Chongquing': 801,\n",
    "                      'Shanghai': 13.12,\n",
    "                      'Tokyo': 131,\n",
    "                      'Moscow': 512,\n",
    "                      'Mexico City': 7319,\n",
    "                      'London': 36,\n",
    "                      'New York': 33})\n",
    "\n",
    "city_dataframe = pd.DataFrame({'Population': population,\n",
    "                               'Country': city_country,\n",
    "                               'Altitude': altitude})\n",
    "\n",
    "print(city_dataframe)"
   ]
  },
  {
   "cell_type": "markdown",
   "id": "47479e5d",
   "metadata": {},
   "source": [
    "## Requirement 11"
   ]
  },
  {
   "cell_type": "code",
   "execution_count": 8,
   "id": "6064d531",
   "metadata": {},
   "outputs": [
    {
     "name": "stdout",
     "output_type": "stream",
     "text": [
      "a    3.0\n",
      "b    6.0\n",
      "c    NaN\n",
      "d    NaN\n",
      "dtype: float64\n",
      "a    3.0\n",
      "b    6.0\n",
      "c    3.0\n",
      "d    3.0\n",
      "dtype: float64\n"
     ]
    }
   ],
   "source": [
    "# Create two Pandas series that when added using ‘+’ produce some NaN\n",
    "# entries. Use the .add() method and a fill_value to replace the NaN entries\n",
    "\n",
    "series1 = pd.Series({'a': 1, 'b': 2, 'c': 3})\n",
    "\n",
    "series2 = pd.Series({'a': 2, 'd': 3, 'b': 4})\n",
    "\n",
    "print(series1 + series2)\n",
    "\n",
    "print(series1.add(series2, fill_value=0))\n",
    "\n"
   ]
  },
  {
   "cell_type": "markdown",
   "id": "a82bc97c",
   "metadata": {},
   "source": [
    "## Requirement 12"
   ]
  },
  {
   "cell_type": "code",
   "execution_count": 9,
   "id": "20ad5476",
   "metadata": {},
   "outputs": [
    {
     "name": "stdout",
     "output_type": "stream",
     "text": [
      "    I     P     Q     T\n",
      "0 NaN  18.0  15.0   5.0\n",
      "1 NaN  14.0  18.0  13.0\n",
      "2 NaN  10.0  14.0   9.0\n",
      "3 NaN   NaN   NaN   NaN\n",
      "     I     P     Q     T\n",
      "0  7.0  18.0  15.0   5.0\n",
      "1  7.0  14.0  18.0  13.0\n",
      "2  1.0  10.0  14.0   9.0\n",
      "3  4.0   1.0   7.0   5.0\n"
     ]
    }
   ],
   "source": [
    "# Create two Pandas dataframes that when added using ‘+’ produce some\n",
    "# NaN entries. Use the .add() method and a fill_value of the mean of one of\n",
    "# the dataframes to replace the NaN entries.\n",
    "\n",
    "import numpy as np\n",
    "\n",
    "rng = np.random.RandomState(42)\n",
    "\n",
    "df1 = pd.DataFrame(rng.randint(0, 15, (3, 3)),\n",
    "                   columns=list('QTP'))\n",
    "\n",
    "df2 = pd.DataFrame(rng.randint(0, 10, (4, 4)),\n",
    "                   columns=list('QTPI'))\n",
    "\n",
    "print(df1 + df2)\n",
    "\n",
    "print(df2.add(df1, fill_value = 0))"
   ]
  },
  {
   "cell_type": "markdown",
   "id": "9780ef49",
   "metadata": {},
   "source": [
    "## Requirement 13"
   ]
  },
  {
   "cell_type": "code",
   "execution_count": 10,
   "id": "37a913ae",
   "metadata": {},
   "outputs": [
    {
     "name": "stdout",
     "output_type": "stream",
     "text": [
      "[[5 8 6 9]\n",
      " [8 5 5 7]\n",
      " [7 6 8 8]\n",
      " [7 8 8 5]]\n",
      "[[ 0  0  0  0]\n",
      " [ 3 -3 -1 -2]\n",
      " [ 2 -2  2 -1]\n",
      " [ 2  0  2 -4]]\n"
     ]
    }
   ],
   "source": [
    "# Create a two-dimensional NumPy array using:\n",
    "# A = rng.randint(5, 10, size=(4, 4))\n",
    "# Demonstrate: subtracting row 0 of A from A\n",
    "\n",
    "A = rng.randint(5, 10, size=(4, 4))\n",
    "\n",
    "print(A)\n",
    "print(A-A[0])"
   ]
  },
  {
   "cell_type": "markdown",
   "id": "a297e2cf",
   "metadata": {},
   "source": [
    "## Requirement 14"
   ]
  },
  {
   "cell_type": "code",
   "execution_count": 11,
   "id": "8baf20af",
   "metadata": {},
   "outputs": [
    {
     "name": "stdout",
     "output_type": "stream",
     "text": [
      "   Q  R  S  T\n",
      "0  5  8  6  9\n",
      "1  8  5  5  7\n",
      "2  7  6  8  8\n",
      "3  7  8  8  5\n",
      "\n",
      "\n",
      "   Q  R  S  T\n",
      "0 -3  3  1  2\n",
      "1  0  0  0  0\n",
      "2 -1  1  3  1\n",
      "3 -1  3  3 -2\n"
     ]
    }
   ],
   "source": [
    "# Create a Pandas dataframe using:\n",
    "# df = pd.DataFrame(A, columns=list('QRST'))\n",
    "\n",
    "df = pd.DataFrame(A, columns=list('QRST'))\n",
    "\n",
    "print(df)\n",
    "print('\\n')\n",
    "\n",
    "# Demonstrate: subtracting row 1 of df from df using df.iloc[1]\n",
    "\n",
    "print(df - df.iloc[1])"
   ]
  },
  {
   "cell_type": "markdown",
   "id": "133fb753",
   "metadata": {},
   "source": [
    "## Requirement 15"
   ]
  },
  {
   "cell_type": "markdown",
   "id": "3bfbd1bf",
   "metadata": {},
   "source": [
    "Compare and contrast the two sentinel values Pandas uses to represent missing data.\n",
    "\n",
    "None is a Python singleton object that is often used for missing data in Python code. It cannot be used in any arbitrary Numpy/Pandas array, but only in arrays with data type object. None being an object makes aggregations across array to generate errors. Nan, not a number, is the other missing data representation and is different. It is a special floating-point value recognized by all systems that use the standard IEEE floating-pint representation. Nan infects any other object it touches into nan, but the aggregations don't result in error. Python even has aggregations that will ignore nan values."
   ]
  },
  {
   "cell_type": "markdown",
   "id": "bd9d27a5",
   "metadata": {},
   "source": [
    "# Requirement 16"
   ]
  },
  {
   "cell_type": "code",
   "execution_count": 12,
   "id": "a7040b4e",
   "metadata": {},
   "outputs": [
    {
     "name": "stdout",
     "output_type": "stream",
     "text": [
      "60.7 µs ± 832 ns per loop (mean ± std. dev. of 7 runs, 10,000 loops each)\n",
      "46.3 µs ± 1.52 µs per loop (mean ± std. dev. of 7 runs, 10,000 loops each)\n"
     ]
    }
   ],
   "source": [
    "# Demonstrate the %timeit difference between operations using Python\n",
    "# objects and Python integers\n",
    "\n",
    "%timeit pd.Series(range(3), dtype=int)\n",
    "\n",
    "%timeit pd.Series(range(3), dtype=object)"
   ]
  },
  {
   "cell_type": "markdown",
   "id": "e0dfac57",
   "metadata": {},
   "source": [
    "## Requirement 17"
   ]
  },
  {
   "cell_type": "code",
   "execution_count": 13,
   "id": "5631d268",
   "metadata": {},
   "outputs": [
    {
     "data": {
      "text/plain": [
       "0    False\n",
       "1    False\n",
       "2    False\n",
       "3     True\n",
       "4     True\n",
       "dtype: bool"
      ]
     },
     "execution_count": 13,
     "metadata": {},
     "output_type": "execute_result"
    }
   ],
   "source": [
    "# Create a Pandas series containing null data. Use .isnull() to identify the\n",
    "# entries that are null.\n",
    "\n",
    "nuls = pd.Series([1, 5, 6, np.nan, None])\n",
    "\n",
    "nuls.isnull()"
   ]
  },
  {
   "cell_type": "markdown",
   "id": "9b2ce164",
   "metadata": {},
   "source": [
    "## Requirement 18"
   ]
  },
  {
   "cell_type": "code",
   "execution_count": 14,
   "id": "8e16b175",
   "metadata": {
    "scrolled": true
   },
   "outputs": [
    {
     "name": "stdout",
     "output_type": "stream",
     "text": [
      "Empty DataFrame\n",
      "Columns: [0, 1, 2, 3]\n",
      "Index: []\n",
      "\n",
      "\n",
      "Empty DataFrame\n",
      "Columns: []\n",
      "Index: [0, 1, 2]\n",
      "\n",
      "\n",
      "      0     1     2   3\n",
      "0   8.0   NaN  20.0 NaN\n",
      "1  20.0  40.0  65.0 NaN\n",
      "\n",
      "\n",
      "      0     1     2\n",
      "0   8.0   NaN  20.0\n",
      "1  20.0  40.0  65.0\n",
      "2   NaN   NaN   NaN\n",
      "\n",
      "\n",
      "      0     1     2    3\n",
      "0   8.0   0.0  20.0  0.0\n",
      "1  20.0  40.0  65.0  0.0\n",
      "2   0.0   0.0   0.0  0.0\n",
      "\n",
      "\n",
      "      0     1     2   3\n",
      "0   8.0   NaN  20.0 NaN\n",
      "1  20.0  40.0  65.0 NaN\n",
      "2  20.0  40.0  65.0 NaN\n",
      "\n",
      "\n",
      "      0     1     2   3\n",
      "0   8.0  40.0  20.0 NaN\n",
      "1  20.0  40.0  65.0 NaN\n",
      "2   NaN   NaN   NaN NaN\n"
     ]
    }
   ],
   "source": [
    "# Create a Pandas dataframe containing null values. Demonstrate:\n",
    "\n",
    "dfna = pd.DataFrame([[8, np.nan, 20, np.nan],\n",
    "                     [20, 40, 65, np.nan],\n",
    "                     [np.nan, np.nan, np.nan, np.nan]])\n",
    "\n",
    "# drop all rows containing a null value\n",
    "\n",
    "print(dfna.dropna())\n",
    "\n",
    "print('\\n')\n",
    "\n",
    "# drop all columns containing a null value\n",
    "\n",
    "print(dfna.dropna(axis='columns'))\n",
    "\n",
    "print('\\n')\n",
    "\n",
    "# drop only rows that contain all null values\n",
    "\n",
    "print(dfna.dropna(axis='rows', how='all'))\n",
    "\n",
    "print('\\n')\n",
    "\n",
    "# drop only columns that contain all null values\n",
    "\n",
    "print(dfna.dropna(axis='columns', how='all'))\n",
    "\n",
    "print('\\n')\n",
    "\n",
    "# replacing null with 0\n",
    "\n",
    "print(dfna.fillna(0))\n",
    "\n",
    "print('\\n')\n",
    "\n",
    "# forward fill\n",
    "\n",
    "print(dfna.fillna(method='ffill'))\n",
    "\n",
    "print('\\n')\n",
    "                     \n",
    "# backward fill \n",
    "\n",
    "print(dfna.fillna(method='bfill'))"
   ]
  },
  {
   "cell_type": "markdown",
   "id": "e6e91bed",
   "metadata": {},
   "source": [
    "## Requirement 19"
   ]
  },
  {
   "cell_type": "code",
   "execution_count": 15,
   "id": "22646268",
   "metadata": {
    "scrolled": true
   },
   "outputs": [
    {
     "name": "stdout",
     "output_type": "stream",
     "text": [
      "MultiIndex([( 'Revenue', 2000),\n",
      "            ( 'Revenue', 2010),\n",
      "            ('Expenses', 2000),\n",
      "            ('Expenses', 2010),\n",
      "            (  'Profit', 2000),\n",
      "            (  'Profit', 2010)],\n",
      "           )\n",
      "\n",
      "\n",
      "Revenue   2000    50000\n",
      "          2010    60000\n",
      "Expenses  2000    20000\n",
      "          2010    25000\n",
      "Profit    2000    30000\n",
      "          2010    35000\n",
      "dtype: int64\n",
      "\n",
      "\n",
      "           2000   2010\n",
      "Expenses  20000  25000\n",
      "Profit    30000  35000\n",
      "Revenue   50000  60000\n",
      "\n",
      "\n",
      "Expenses  2000    20000\n",
      "          2010    25000\n",
      "Profit    2000    30000\n",
      "          2010    35000\n",
      "Revenue   2000    50000\n",
      "          2010    60000\n",
      "dtype: int64\n",
      "2000    50000\n",
      "2010    60000\n",
      "dtype: int64\n",
      "\n",
      "\n",
      "Revenue     60000\n",
      "Expenses    25000\n",
      "Profit      35000\n",
      "dtype: int64\n",
      "\n",
      "\n",
      "Revenue   2000    50000\n",
      "          2010    60000\n",
      "Expenses  2000    20000\n",
      "          2010    25000\n",
      "Profit    2000    30000\n",
      "          2010    35000\n",
      "dtype: int64\n",
      "\n",
      "\n",
      "Revenue  2000    50000\n",
      "         2010    60000\n",
      "Profit   2010    35000\n",
      "dtype: int64\n",
      "\n",
      "\n",
      "Profit    2000    30000\n",
      "          2010    35000\n",
      "Expenses  2000    20000\n",
      "          2010    25000\n",
      "dtype: int64\n"
     ]
    }
   ],
   "source": [
    "# Demonstrate Pandas MultiIndex techniques (can use book examples):\n",
    "# .from_tuples()\n",
    "\n",
    "index1 = [('Revenue', 2000), ('Revenue', 2010),\n",
    "         ('Expenses', 2000), ('Expenses', 2010),\n",
    "         ('Profit', 2000), ('Profit', 2010)]\n",
    "\n",
    "amounts = [50000, 60000, 20000, 25000, 30000, 35000]\n",
    "\n",
    "multii = pd.MultiIndex.from_tuples(index1)\n",
    "\n",
    "print(multii)\n",
    "\n",
    "financedf = pd.Series(amounts, index=multii)\n",
    "\n",
    "print('\\n')\n",
    "\n",
    "# .reindex()\n",
    "\n",
    "financedf2 = financedf.reindex(index1)\n",
    "\n",
    "print(financedf2)\n",
    "\n",
    "print('\\n')\n",
    "\n",
    "# .unstack()\n",
    "\n",
    "financedf2 = financedf2.unstack()\n",
    "\n",
    "print(financedf2)\n",
    "\n",
    "print('\\n')\n",
    "\n",
    "# .stack()\n",
    "\n",
    "print(financedf2.stack())\n",
    "\n",
    "# indexing and slicing\n",
    "\n",
    "print(financedf['Revenue'])\n",
    "\n",
    "print('\\n')\n",
    "\n",
    "print(financedf[:, 2010])\n",
    "\n",
    "print('\\n')\n",
    "\n",
    "print(financedf.loc[:])\n",
    "\n",
    "print('\\n')\n",
    "\n",
    "print(financedf[financedf > 31000])\n",
    "\n",
    "print('\\n')\n",
    "\n",
    "print(financedf[['Profit', 'Expenses']])"
   ]
  },
  {
   "cell_type": "markdown",
   "id": "b0028fe5",
   "metadata": {},
   "source": [
    "## Requirement 20"
   ]
  },
  {
   "cell_type": "code",
   "execution_count": 16,
   "id": "9c14c9dd",
   "metadata": {},
   "outputs": [
    {
     "data": {
      "text/plain": [
       "Ford          Mustang\n",
       "VW                GTI\n",
       "Audi               A4\n",
       "Honda           Shine\n",
       "BMW              R 18\n",
       "Kawasaki    Ninja H2R\n",
       "dtype: object"
      ]
     },
     "execution_count": 16,
     "metadata": {},
     "output_type": "execute_result"
    }
   ],
   "source": [
    "# Demonstrate concatenating two Pandas series. One series contains\n",
    "# automobile data. The other series contains motorcycle data.\n",
    "\n",
    "autoS = pd.Series(['Mustang', 'GTI', 'A4'], index=['Ford', 'VW', 'Audi'])\n",
    "\n",
    "motoS = pd.Series(['Shine', 'R 18', 'Ninja H2R'], index=['Honda', 'BMW', 'Kawasaki'])\n",
    "\n",
    "pd.concat([autoS, motoS])"
   ]
  },
  {
   "cell_type": "markdown",
   "id": "126390f9",
   "metadata": {},
   "source": [
    "## Requirement 21"
   ]
  },
  {
   "cell_type": "code",
   "execution_count": 17,
   "id": "0ba13583",
   "metadata": {},
   "outputs": [
    {
     "name": "stderr",
     "output_type": "stream",
     "text": [
      "C:\\Users\\punxi\\AppData\\Local\\Temp\\ipykernel_7308\\1552603308.py:7: FutureWarning: The frame.append method is deprecated and will be removed from pandas in a future version. Use pandas.concat instead.\n",
      "  display(dfa1, dfa2, dfa1.append(dfa2))\n"
     ]
    },
    {
     "data": {
      "text/html": [
       "<div>\n",
       "<style scoped>\n",
       "    .dataframe tbody tr th:only-of-type {\n",
       "        vertical-align: middle;\n",
       "    }\n",
       "\n",
       "    .dataframe tbody tr th {\n",
       "        vertical-align: top;\n",
       "    }\n",
       "\n",
       "    .dataframe thead th {\n",
       "        text-align: right;\n",
       "    }\n",
       "</style>\n",
       "<table border=\"1\" class=\"dataframe\">\n",
       "  <thead>\n",
       "    <tr style=\"text-align: right;\">\n",
       "      <th></th>\n",
       "      <th>A</th>\n",
       "      <th>B</th>\n",
       "    </tr>\n",
       "  </thead>\n",
       "  <tbody>\n",
       "    <tr>\n",
       "      <th>0</th>\n",
       "      <td>10</td>\n",
       "      <td>30</td>\n",
       "    </tr>\n",
       "    <tr>\n",
       "      <th>1</th>\n",
       "      <td>20</td>\n",
       "      <td>40</td>\n",
       "    </tr>\n",
       "  </tbody>\n",
       "</table>\n",
       "</div>"
      ],
      "text/plain": [
       "    A   B\n",
       "0  10  30\n",
       "1  20  40"
      ]
     },
     "metadata": {},
     "output_type": "display_data"
    },
    {
     "data": {
      "text/html": [
       "<div>\n",
       "<style scoped>\n",
       "    .dataframe tbody tr th:only-of-type {\n",
       "        vertical-align: middle;\n",
       "    }\n",
       "\n",
       "    .dataframe tbody tr th {\n",
       "        vertical-align: top;\n",
       "    }\n",
       "\n",
       "    .dataframe thead th {\n",
       "        text-align: right;\n",
       "    }\n",
       "</style>\n",
       "<table border=\"1\" class=\"dataframe\">\n",
       "  <thead>\n",
       "    <tr style=\"text-align: right;\">\n",
       "      <th></th>\n",
       "      <th>A</th>\n",
       "      <th>B</th>\n",
       "    </tr>\n",
       "  </thead>\n",
       "  <tbody>\n",
       "    <tr>\n",
       "      <th>0</th>\n",
       "      <td>25</td>\n",
       "      <td>130</td>\n",
       "    </tr>\n",
       "    <tr>\n",
       "      <th>1</th>\n",
       "      <td>201</td>\n",
       "      <td>40</td>\n",
       "    </tr>\n",
       "  </tbody>\n",
       "</table>\n",
       "</div>"
      ],
      "text/plain": [
       "     A    B\n",
       "0   25  130\n",
       "1  201   40"
      ]
     },
     "metadata": {},
     "output_type": "display_data"
    },
    {
     "data": {
      "text/html": [
       "<div>\n",
       "<style scoped>\n",
       "    .dataframe tbody tr th:only-of-type {\n",
       "        vertical-align: middle;\n",
       "    }\n",
       "\n",
       "    .dataframe tbody tr th {\n",
       "        vertical-align: top;\n",
       "    }\n",
       "\n",
       "    .dataframe thead th {\n",
       "        text-align: right;\n",
       "    }\n",
       "</style>\n",
       "<table border=\"1\" class=\"dataframe\">\n",
       "  <thead>\n",
       "    <tr style=\"text-align: right;\">\n",
       "      <th></th>\n",
       "      <th>A</th>\n",
       "      <th>B</th>\n",
       "    </tr>\n",
       "  </thead>\n",
       "  <tbody>\n",
       "    <tr>\n",
       "      <th>0</th>\n",
       "      <td>10</td>\n",
       "      <td>30</td>\n",
       "    </tr>\n",
       "    <tr>\n",
       "      <th>1</th>\n",
       "      <td>20</td>\n",
       "      <td>40</td>\n",
       "    </tr>\n",
       "    <tr>\n",
       "      <th>0</th>\n",
       "      <td>25</td>\n",
       "      <td>130</td>\n",
       "    </tr>\n",
       "    <tr>\n",
       "      <th>1</th>\n",
       "      <td>201</td>\n",
       "      <td>40</td>\n",
       "    </tr>\n",
       "  </tbody>\n",
       "</table>\n",
       "</div>"
      ],
      "text/plain": [
       "     A    B\n",
       "0   10   30\n",
       "1   20   40\n",
       "0   25  130\n",
       "1  201   40"
      ]
     },
     "metadata": {},
     "output_type": "display_data"
    }
   ],
   "source": [
    "# Demonstrate concatenating two Pandas dataframe using the .append() method.\n",
    "\n",
    "dfa1 = pd.DataFrame({'A': [10, 20], 'B': [30, 40]})\n",
    "\n",
    "dfa2 = pd.DataFrame({'A': [25, 201], 'B': [130, 40]})\n",
    "\n",
    "display(dfa1, dfa2, dfa1.append(dfa2))"
   ]
  },
  {
   "cell_type": "markdown",
   "id": "d5f21a1f",
   "metadata": {},
   "source": [
    "## Requirement 22"
   ]
  },
  {
   "cell_type": "code",
   "execution_count": 18,
   "id": "6030ebcb",
   "metadata": {},
   "outputs": [
    {
     "name": "stdout",
     "output_type": "stream",
     "text": [
      "  employee    group  hire_date\n",
      "0     John  Finance       2020\n",
      "1    Steve  Finance       2019\n",
      "2      Jim   Retail       2021\n",
      "\n",
      "\n",
      "  employee    group supervisor\n",
      "0     John  Finance     Jeremy\n",
      "1    Steve  Finance     Jeremy\n",
      "2      Sam       HR        Tom\n",
      "3      Jim   Retail    Michael\n",
      "\n",
      "\n",
      "  employee    group        skills\n",
      "0     John  Finance          math\n",
      "1     John  Finance  spreadsheets\n",
      "2    Steve  Finance          math\n",
      "3    Steve  Finance  spreadsheets\n",
      "4      Sam       HR  organization\n",
      "5      Sam       HR  spreadsheets\n",
      "6      Jim   Retail      stocking\n",
      "7      Jim   Retail     inventory\n"
     ]
    }
   ],
   "source": [
    "# Using Pandas dataframes, demonstrate the following joins:\n",
    "# one-to-one\n",
    "\n",
    "dfmer1 = pd.DataFrame({'employee': ['John', 'Steve', 'Sam', 'Jim'],\n",
    "                       'group': ['Finance', 'Finance', 'HR', 'Retail']})\n",
    "\n",
    "dfmer2 = pd.DataFrame({'employee': ['John', 'Steve', 'Kim', 'Jim'],\n",
    "                        'hire_date': [2020, 2019, 2022, 2021]})\n",
    "\n",
    "dfmer3 = pd.merge(dfmer1, dfmer2)\n",
    "\n",
    "print(dfmer3)\n",
    "print('\\n')\n",
    "\n",
    "# many-to-one\n",
    "\n",
    "dfmer4 = pd.DataFrame({'group': ['Finance', 'HR', 'Retail'],\n",
    "                       'supervisor': ['Jeremy', 'Tom', 'Michael']})\n",
    "\n",
    "dfmer4 = pd.merge(dfmer1, dfmer4)\n",
    "\n",
    "print(dfmer4)\n",
    "print('\\n')\n",
    "\n",
    "# many-to-many\n",
    "\n",
    "dfmer5 = pd.DataFrame({'group': ['Finance', 'Finance',\n",
    "                                 'HR', 'HR', 'Retail', 'Retail'],\n",
    "                       'skills': ['math', 'spreadsheets', 'organization', 'spreadsheets',\n",
    "                                  'stocking', 'inventory']})\n",
    "\n",
    "dfmer6 = pd.merge(dfmer1, dfmer5)\n",
    "\n",
    "print(dfmer6)"
   ]
  },
  {
   "cell_type": "markdown",
   "id": "b4c6603c",
   "metadata": {},
   "source": [
    "## Requirement 23"
   ]
  },
  {
   "cell_type": "code",
   "execution_count": 19,
   "id": "127003ac",
   "metadata": {},
   "outputs": [
    {
     "name": "stdout",
     "output_type": "stream",
     "text": [
      "  employee    group  hire_date\n",
      "0     John  Finance       2020\n",
      "1    Steve  Finance       2019\n",
      "2      Jim   Retail       2021\n",
      "\n",
      "\n",
      "  employee  group_x  group_y  hire_date\n",
      "0     John  Finance  Finance       2020\n",
      "1    Steve  Finance  Finance       2019\n",
      "2      Jim   Retail   Retail       2021\n",
      "\n",
      "\n",
      "            group  hire_date\n",
      "employee                    \n",
      "John      Finance       2020\n",
      "Steve     Finance       2019\n",
      "Jim        Retail       2021\n"
     ]
    }
   ],
   "source": [
    "# Using Pandas dataframes, demonstrate merge with the following keywords:\n",
    "# on\n",
    "\n",
    "dfmer7 = pd.merge(dfmer1, dfmer2, on='employee')\n",
    "\n",
    "print(dfmer7)\n",
    "print('\\n')\n",
    "\n",
    "# left_on and right_on\n",
    "\n",
    "dfmer8 = pd.merge(dfmer1, dfmer3, left_on=\"employee\", right_on=\"employee\")\n",
    "\n",
    "print(dfmer8)\n",
    "print('\\n')\n",
    "\n",
    "# left_index and right_index\n",
    "\n",
    "dfmer1a = dfmer1.set_index('employee')\n",
    "dfmer2a = dfmer2.set_index('employee')\n",
    "\n",
    "dfmer9 = pd.merge(dfmer1a, dfmer2a, left_index=True, right_index=True)\n",
    "\n",
    "print(dfmer9)"
   ]
  },
  {
   "cell_type": "markdown",
   "id": "15214bb9",
   "metadata": {},
   "source": [
    "## Requirment 24"
   ]
  },
  {
   "cell_type": "markdown",
   "id": "73eb8a8c",
   "metadata": {},
   "source": [
    "I felt it was an overly thorough introduction to series, dataframes, and merge functionality. The creation of the dataframes and series took some time. I wasn't exposed to the MultiIndex object since I usually had data in the dataframe and used a groupby function to get it in a similar state. It was interesting. I liked the relational data join section."
   ]
  }
 ],
 "metadata": {
  "kernelspec": {
   "display_name": "Python 3 (ipykernel)",
   "language": "python",
   "name": "python3"
  },
  "language_info": {
   "codemirror_mode": {
    "name": "ipython",
    "version": 3
   },
   "file_extension": ".py",
   "mimetype": "text/x-python",
   "name": "python",
   "nbconvert_exporter": "python",
   "pygments_lexer": "ipython3",
   "version": "3.8.13"
  }
 },
 "nbformat": 4,
 "nbformat_minor": 5
}
