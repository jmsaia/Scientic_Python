{
 "cells": [
  {
   "cell_type": "markdown",
   "id": "39ea8c51",
   "metadata": {},
   "source": [
    "# This is Assignment 05 - John Saia"
   ]
  },
  {
   "cell_type": "markdown",
   "id": "f4878356",
   "metadata": {},
   "source": [
    "## Requirement 4"
   ]
  },
  {
   "cell_type": "code",
   "execution_count": 1,
   "id": "9caacfaf",
   "metadata": {},
   "outputs": [
    {
     "name": "stdout",
     "output_type": "stream",
     "text": [
      "9 = 5 + 4\n",
      "1 = 5 - 4\n",
      "20 = 5 * 4\n",
      "4.5 = 9 / 2\n",
      "4 = 8 // 2\n",
      "625 = 5 ** 4\n"
     ]
    }
   ],
   "source": [
    "# addition\n",
    "\n",
    "x = 5 + 4\n",
    "\n",
    "print(x, '= 5 + 4')\n",
    "\n",
    "# subtraction\n",
    "\n",
    "x = 5 - 4\n",
    "\n",
    "print(x, '= 5 - 4')\n",
    "\n",
    "# multiplication\n",
    "\n",
    "x = 5 * 4\n",
    "\n",
    "print(x, '= 5 * 4')\n",
    "\n",
    "# true division\n",
    "\n",
    "x = 9 / 2\n",
    "\n",
    "print(x, '= 9 / 2')\n",
    "\n",
    "# floor division\n",
    "\n",
    "x = 8 // 2\n",
    "\n",
    "print(x, '= 8 // 2')\n",
    "\n",
    "# exponentation\n",
    "\n",
    "x = 5 ** 4\n",
    "\n",
    "print(x, '= 5 ** 4')"
   ]
  },
  {
   "cell_type": "markdown",
   "id": "d3d8c2bb",
   "metadata": {},
   "source": [
    "## Requirement 5"
   ]
  },
  {
   "cell_type": "code",
   "execution_count": 2,
   "id": "df73932f",
   "metadata": {},
   "outputs": [
    {
     "name": "stdout",
     "output_type": "stream",
     "text": [
      "True = 5 == 5\n",
      "False = 6 == 5\n",
      "False = 5 != 5\n",
      "True = 6 != 5\n",
      "False = 6 < 5\n",
      "True = 6 > 5\n",
      "True = 5 <= 6\n",
      "True = 6 <= 6\n",
      "False = 7 <= 6\n",
      "True = 6 >= 5\n",
      "True = 6 >= 6\n",
      "False = 5 >= 6\n"
     ]
    }
   ],
   "source": [
    "# == equal to\n",
    "\n",
    "x = 5 == 5\n",
    "\n",
    "y = 6 == 5\n",
    "\n",
    "print(x, '= 5 == 5')\n",
    "\n",
    "print(y, '= 6 == 5')\n",
    "\n",
    "# != not equal to\n",
    "\n",
    "x = 5 != 5\n",
    "\n",
    "y = 6 != 5\n",
    "\n",
    "print(x, '= 5 != 5')\n",
    "\n",
    "print(y, '= 6 != 5')\n",
    "\n",
    "# < less than ,> greater than\n",
    "\n",
    "x = 6 < 5\n",
    "\n",
    "y = 6 > 5\n",
    "\n",
    "print(x, '= 6 < 5')\n",
    "\n",
    "print(y, '= 6 > 5')\n",
    "\n",
    "# <= less than equal to ,>= greater than equal to\n",
    "\n",
    "x = 5 <= 6\n",
    "\n",
    "y = 6 <= 6\n",
    "\n",
    "z = 7 <= 6\n",
    "\n",
    "a = 6 >= 5\n",
    "\n",
    "b = 6 >= 6\n",
    "\n",
    "c = 5 >= 6\n",
    "\n",
    "print(x, '= 5 <= 6')\n",
    "\n",
    "print(y, '= 6 <= 6')\n",
    "\n",
    "print(z, '= 7 <= 6')\n",
    "\n",
    "print(a, '= 6 >= 5')\n",
    "\n",
    "print(b, '= 6 >= 6')\n",
    "\n",
    "print(c, '= 5 >= 6')"
   ]
  },
  {
   "cell_type": "markdown",
   "id": "af91dae9",
   "metadata": {},
   "source": [
    "## Requirement 6"
   ]
  },
  {
   "cell_type": "code",
   "execution_count": 3,
   "id": "e386736b",
   "metadata": {},
   "outputs": [
    {
     "name": "stdout",
     "output_type": "stream",
     "text": [
      "9 = 5 + 4\n",
      "1 = 5 - 4\n",
      "20 = 5 * 4\n",
      "4.5 = 9 / 2\n",
      "4 = 8 // 2\n",
      "625 = 5 ** 4\n",
      "True = 5 == 5\n",
      "False = 6 == 5\n",
      "False = 5 != 5\n",
      "True = 6 != 5\n",
      "False = 6 < 5\n",
      "True = 6 > 5\n",
      "True = 5 <= 6\n",
      "True = 6 <= 6\n",
      "False = 7 <= 6\n",
      "True = 6 >= 5\n",
      "True = 6 >= 6\n",
      "False = 5 >= 6\n"
     ]
    }
   ],
   "source": [
    "import operators"
   ]
  },
  {
   "cell_type": "markdown",
   "id": "f55a5281",
   "metadata": {},
   "source": [
    "## Requirement 7"
   ]
  },
  {
   "cell_type": "code",
   "execution_count": 4,
   "id": "9463b378",
   "metadata": {},
   "outputs": [
    {
     "name": "stdout",
     "output_type": "stream",
     "text": [
      "Even Number List = [2, 4, 6, 8, 10, 12, 14, 16, 18, 20]\n",
      "Odd Number List = [1, 3, 5, 7, 9, 11, 13, 15, 17, 19]\n"
     ]
    }
   ],
   "source": [
    "# list 1\n",
    "\n",
    "list_1 = [1,2,3,4,5,6,7,8,9,10]\n",
    "\n",
    "# list 2\n",
    "\n",
    "list_2 = [11,12,13,14,15,16,17,18,19,20]\n",
    "\n",
    "# even list\n",
    "\n",
    "list_even =[]\n",
    "\n",
    "# odd list\n",
    "\n",
    "list_odd =[]\n",
    "\n",
    "# append to even list if remainder is 0 and append to odd list if remainder is 1. This will tell which is even and odd.\n",
    "\n",
    "[list_even.append(x) if x % 2 == 0 else list_odd.append(x) for x in list_1]\n",
    "\n",
    "[list_even.append(x) if x % 2 == 0 else list_odd.append(x) for x in list_2]\n",
    "\n",
    "# print even list\n",
    "\n",
    "print('Even Number List =', list_even)\n",
    "\n",
    "# print odd list\n",
    "\n",
    "print('Odd Number List =', list_odd)"
   ]
  },
  {
   "cell_type": "markdown",
   "id": "624f782f",
   "metadata": {},
   "source": [
    "## Requirement 8"
   ]
  },
  {
   "cell_type": "code",
   "execution_count": 5,
   "id": "695ed807",
   "metadata": {},
   "outputs": [
    {
     "name": "stdout",
     "output_type": "stream",
     "text": [
      "Is 5.0 a float with a finite integral value? True\n",
      "Is 6.5 a float with a finite integral value? False\n"
     ]
    }
   ],
   "source": [
    "x = 5.0\n",
    "\n",
    "tru_res = x.is_integer()\n",
    "\n",
    "print(f\"Is {x} a float with a finite integral value? {x.is_integer()}\")\n",
    "\n",
    "x = 6.5\n",
    "\n",
    "fal_res = x.is_integer()\n",
    "\n",
    "print(f\"Is {x} a float with a finite integral value? {x.is_integer()}\")"
   ]
  },
  {
   "cell_type": "markdown",
   "id": "abde6da7",
   "metadata": {},
   "source": [
    "## Requirement 9"
   ]
  },
  {
   "cell_type": "code",
   "execution_count": 6,
   "id": "b6654eda",
   "metadata": {},
   "outputs": [
    {
     "name": "stdout",
     "output_type": "stream",
     "text": [
      "x <= 5 and x > 3 = True\n",
      "x < 5 and x > 3 = False\n",
      "x == 5 or y < 3 = True\n",
      "x < 5 or y < 3 = False\n",
      "not 6 != 6 = True\n",
      "not 6 == 6 = False\n",
      "x is y = False\n",
      "z is x = True\n",
      "x is not y = True\n",
      "z is not x = False\n",
      "c is in listin = True\n",
      "d is in listin = False\n",
      "c is not in listin = False\n",
      "d is not in listin = True\n",
      "0x7ffc99402480\n",
      "0x7ffc99402480\n",
      "0x7ffc99402560\n"
     ]
    }
   ],
   "source": [
    "# and condition\n",
    "\n",
    "x = 5\n",
    "\n",
    "and1 = (x <= 5 and x > 3)\n",
    "\n",
    "print(\"x <= 5 and x > 3 =\", and1)\n",
    "\n",
    "x = 6\n",
    "\n",
    "and2 = (x < 5 and x > 3)\n",
    "\n",
    "print(\"x < 5 and x > 3 =\", and2)\n",
    "\n",
    "# or condition\n",
    "\n",
    "x = 5\n",
    "y = 6\n",
    "\n",
    "or1 = (x == 5 or y < 3)\n",
    "\n",
    "print(\"x == 5 or y < 3 =\", or1)\n",
    "\n",
    "or2 = (x < 5 or y < 3)\n",
    "\n",
    "print(\"x < 5 or y < 3 =\", or2)\n",
    "\n",
    "# not\n",
    "\n",
    "not1 = not 6 != 6\n",
    "\n",
    "not2 = not 6 == 6\n",
    "\n",
    "print(\"not 6 != 6 =\", not1)\n",
    "print(\"not 6 == 6 =\", not2)\n",
    "\n",
    "# is\n",
    "\n",
    "x = [10, 20]\n",
    "y = [10, 20]\n",
    "z = x\n",
    "\n",
    "is1 = x is y\n",
    "is2 = z is x\n",
    "\n",
    "print(\"x is y =\", is1)\n",
    "print(\"z is x =\", is2)\n",
    "\n",
    "# is not\n",
    "\n",
    "x = [10, 20]\n",
    "y = [10, 20]\n",
    "z = x\n",
    "\n",
    "isnot1 = x is not y\n",
    "isnot2 = z is not x\n",
    "\n",
    "print(\"x is not y =\", isnot1)\n",
    "print(\"z is not x =\", isnot2)\n",
    "\n",
    "# in\n",
    "\n",
    "listin = ['a','b','c']\n",
    "\n",
    "in1 = 'c' in listin\n",
    "in2 = 'd' in listin\n",
    "\n",
    "print(\"c is in listin =\", in1)\n",
    "print(\"d is in listin =\", in2)\n",
    "\n",
    "# not in\n",
    "\n",
    "listin = ['a','b','c']\n",
    "\n",
    "notin1 = 'c' not in listin\n",
    "notin2 = 'd' not in listin\n",
    "\n",
    "print(\"c is not in listin =\", notin1)\n",
    "print(\"d is not in listin =\", notin2)\n",
    "\n",
    "# object identity\n",
    "\n",
    "a = 45\n",
    "b = 45\n",
    "c = 52\n",
    "\n",
    "print(hex(id(a)))\n",
    "print(hex(id(b)))\n",
    "print(hex(id(c)))"
   ]
  },
  {
   "cell_type": "markdown",
   "id": "c0d40eb8",
   "metadata": {},
   "source": [
    "## Requirement 10"
   ]
  },
  {
   "cell_type": "code",
   "execution_count": 7,
   "id": "5d7dbf89",
   "metadata": {},
   "outputs": [
    {
     "name": "stdout",
     "output_type": "stream",
     "text": [
      "0.2 + 0.1 == 0.3 is False\n"
     ]
    }
   ],
   "source": [
    "# variable precision\n",
    "\n",
    "x = 0.2 + 0.1 == 0.3\n",
    "\n",
    "print(\"0.2 + 0.1 == 0.3 is\", x)"
   ]
  },
  {
   "cell_type": "markdown",
   "id": "e3c29e89",
   "metadata": {},
   "source": [
    "## Requirement 11"
   ]
  },
  {
   "cell_type": "code",
   "execution_count": 8,
   "id": "fdd45bde",
   "metadata": {},
   "outputs": [
    {
     "name": "stdout",
     "output_type": "stream",
     "text": [
      "Len of x is 4\n",
      "Uppercase x = HI\n",
      "Capitalize x = Hi\n",
      "My name is Judge.\n",
      "hihihihihi\n",
      "Index 3 in reminder is i\n"
     ]
    }
   ],
   "source": [
    "# len\n",
    "\n",
    "x = 'taco'\n",
    "\n",
    "print(\"Len of x is\",len(x))\n",
    "\n",
    "# upper\n",
    "\n",
    "x = 'hi'\n",
    "\n",
    "print(\"Uppercase x =\", x.upper())\n",
    "\n",
    "# capitalize\n",
    "\n",
    "print(\"Capitalize x =\", x.capitalize())\n",
    "\n",
    "# Concatenation\n",
    "\n",
    "a = \"My name is \"\n",
    "b = \"Judge.\"\n",
    "\n",
    "print(a+b)\n",
    "\n",
    "# multi-concatenation\n",
    "\n",
    "a = 'hi' * 5\n",
    "\n",
    "print(a)\n",
    "\n",
    "# access individual characters\n",
    "\n",
    "x = 'reminder'\n",
    "\n",
    "print('Index 3 in reminder is',x[3])"
   ]
  },
  {
   "cell_type": "markdown",
   "id": "7a55a3ff",
   "metadata": {},
   "source": [
    "## Requirement 12"
   ]
  },
  {
   "cell_type": "markdown",
   "id": "17f8e42c",
   "metadata": {},
   "source": [
    "Assignment 5 was a refresher on basic python capabilities. It was easy if you had prior experience in the programming language. The companion textbook was interesting in its approach since the author is attempting to give us the gist of the language."
   ]
  }
 ],
 "metadata": {
  "kernelspec": {
   "display_name": "Python 3 (ipykernel)",
   "language": "python",
   "name": "python3"
  },
  "language_info": {
   "codemirror_mode": {
    "name": "ipython",
    "version": 3
   },
   "file_extension": ".py",
   "mimetype": "text/x-python",
   "name": "python",
   "nbconvert_exporter": "python",
   "pygments_lexer": "ipython3",
   "version": "3.8.13"
  }
 },
 "nbformat": 4,
 "nbformat_minor": 5
}
