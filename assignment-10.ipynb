{
 "cells": [
  {
   "cell_type": "markdown",
   "id": "00b08654",
   "metadata": {},
   "source": [
    "# This is Assignment 10 - John Saia"
   ]
  },
  {
   "cell_type": "markdown",
   "id": "c5980183",
   "metadata": {},
   "source": [
    "## Requirement 3"
   ]
  },
  {
   "cell_type": "code",
   "execution_count": 1,
   "id": "826d986e",
   "metadata": {},
   "outputs": [
    {
     "name": "stdout",
     "output_type": "stream",
     "text": [
      "[10  7  5  3  4  6  6 10  4  7  0  3  2  1 10  4  5  4  9  4]\n",
      "[False False False  True  True False False False  True False  True  True\n",
      "  True  True False  True False  True False  True]\n",
      "[ True  True False False False  True  True  True False  True False False\n",
      " False False  True False False False  True False]\n",
      "[False False  True  True  True False False False  True False  True  True\n",
      "  True  True False  True  True  True False  True]\n",
      "[ True  True  True False False  True  True  True False  True False False\n",
      " False False  True False  True False  True False]\n",
      "[ True  True False  True  True  True  True  True  True  True  True  True\n",
      "  True  True  True  True False  True  True  True]\n",
      "[False False  True False False False False False False False False False\n",
      " False False False False  True False False False]\n"
     ]
    }
   ],
   "source": [
    "# Create a one-dimensional NumPy array named one_d_array of 20 random\n",
    "# numbers with values between 1 – 10. Demonstrate the following\n",
    "# comparison operators as universal functions:\n",
    "#  <, >, <=, >=, !=, and ==\n",
    "\n",
    "import numpy as np\n",
    "import pandas as pd\n",
    "\n",
    "one_d_array = np.random.randint(11, size=20)\n",
    "\n",
    "print(one_d_array)\n",
    "print(one_d_array < 5)\n",
    "print(one_d_array > 5)\n",
    "print(one_d_array <= 5)\n",
    "print(one_d_array >= 5)\n",
    "print(one_d_array != 5)\n",
    "print(one_d_array == 5)"
   ]
  },
  {
   "cell_type": "markdown",
   "id": "5272854b",
   "metadata": {},
   "source": [
    "## Requirement 4"
   ]
  },
  {
   "cell_type": "code",
   "execution_count": 2,
   "id": "70ebd16c",
   "metadata": {},
   "outputs": [
    {
     "name": "stdout",
     "output_type": "stream",
     "text": [
      "[[15 32 29 21 16]\n",
      " [18 27 11 28 14]\n",
      " [27 21 17 29 32]\n",
      " [21 18 26 17 26]]\n",
      "The count of values less than 15 in the array is 2\n",
      "The sum of values greater than 20 in the array is 12\n",
      "The sum of values greater than equal to 19 in each row in the array is [3 2 4 3]\n",
      "Are any values in the array less than 12? True\n",
      "Are all values in the array greater than 12? False\n",
      "Are all values in each column in the array greater than 14? [ True  True False  True False]\n"
     ]
    }
   ],
   "source": [
    "# Create a two-dimensional NumPy array named two_d_array size = (4,5) with\n",
    "# any values between 11 – 34. Demonstrate the following comparison operators as universal functions:\n",
    "# <, >, <=, >=, !=, and ==\n",
    "\n",
    "two_d_array = np.random.randint(11,35, size=(4,5))\n",
    "\n",
    "print(two_d_array)\n",
    "\n",
    "# count the values < 15\n",
    "\n",
    "print(\"The count of values less than 15 in the array is\", np.count_nonzero(two_d_array < 15))\n",
    "\n",
    "# sum the values > 20\n",
    "\n",
    "print(\"The sum of values greater than 20 in the array is\", np.sum(two_d_array > 20))\n",
    "\n",
    "# count the values >= 19 in each row\n",
    "\n",
    "print(\"The sum of values greater than equal to 19 in each row in the array is\", np.sum(two_d_array >= 19, axis=1))\n",
    "\n",
    "# determine if any values < 12\n",
    "\n",
    "print(\"Are any values in the array less than 12?\", np.any(two_d_array < 12))\n",
    "\n",
    "# determine if all values > 12\n",
    "\n",
    "print(\"Are all values in the array greater than 12?\", np.all(two_d_array > 12))\n",
    "\n",
    "# determine if all values in each column > 14\n",
    "\n",
    "print(\"Are all values in each column in the array greater than 14?\", np.all(two_d_array > 14, axis = 0))"
   ]
  },
  {
   "cell_type": "markdown",
   "id": "776dfd8b",
   "metadata": {},
   "source": [
    "## Requirement 5"
   ]
  },
  {
   "cell_type": "code",
   "execution_count": 3,
   "id": "041a600b",
   "metadata": {},
   "outputs": [
    {
     "name": "stdout",
     "output_type": "stream",
     "text": [
      "How many days had greater than equal to 0.15 inches of rain and less than equal to 1.15 inches of rain? 83\n",
      "How many days do not have less than 0.15 inches of rain and greater than 1.15 inches of rain? 83\n"
     ]
    }
   ],
   "source": [
    "# Using the inches array from Chapter 02.06, determine the number of values where:\n",
    "\n",
    "rainfall = pd.read_csv('Seattle2014.csv')['PRCP'].values\n",
    "inches = rainfall / 254.0  # 1/10mm -> inches\n",
    "\n",
    "# 0.15 <= value <= 1.15\n",
    "\n",
    "print(\"How many days had greater than equal to 0.15 inches of rain and less than equal to 1.15 inches of rain?\", np.sum((inches >= 0.15) & (inches <= 1.15)))\n",
    "\n",
    "# Use ~ and | to return the same number as & above\n",
    "\n",
    "print(\"How many days do not have less than 0.15 inches of rain and greater than 1.15 inches of rain?\", np.sum(~( (inches < 0.15) | (inches > 1.15) )))"
   ]
  },
  {
   "cell_type": "markdown",
   "id": "f2f63a18",
   "metadata": {},
   "source": [
    "## Requirement 6"
   ]
  },
  {
   "cell_type": "code",
   "execution_count": 4,
   "id": "b158106b",
   "metadata": {},
   "outputs": [
    {
     "name": "stdout",
     "output_type": "stream",
     "text": [
      "The number of days without rain: 215\n",
      "The number of days with rain: 150\n",
      "The number of days with at least 1 inch of rain: 8\n"
     ]
    }
   ],
   "source": [
    "# Using the inches array from Chapter 02.06, show the following:\n",
    "# Number of days without rain\n",
    "\n",
    "print(\"The number of days without rain:\", np.sum(inches == 0))\n",
    "\n",
    "# Number of days with rain\n",
    "\n",
    "print(\"The number of days with rain:\", np.sum(inches != 0))\n",
    "\n",
    "# Days with >= 1 inch of rain\n",
    "\n",
    "print(\"The number of days with at least 1 inch of rain:\", np.sum(inches >= 1))"
   ]
  },
  {
   "cell_type": "markdown",
   "id": "602370b1",
   "metadata": {},
   "source": [
    "## Requirement 7"
   ]
  },
  {
   "cell_type": "code",
   "execution_count": 5,
   "id": "2b21ae9c",
   "metadata": {},
   "outputs": [
    {
     "name": "stdout",
     "output_type": "stream",
     "text": [
      "[[False False False False False]\n",
      " [False False  True False  True]\n",
      " [False False False False False]\n",
      " [False False False False False]]\n",
      "[11 14]\n"
     ]
    }
   ],
   "source": [
    "# Use Boolean masking on two_d_array to:\n",
    "# return a Boolean array where < 15\n",
    "\n",
    "print(two_d_array < 15)\n",
    "\n",
    "# return an array of values < 15\n",
    "\n",
    "print(two_d_array[two_d_array < 15])"
   ]
  },
  {
   "cell_type": "markdown",
   "id": "6b178a2b",
   "metadata": {},
   "source": [
    "## Requirement 8"
   ]
  },
  {
   "cell_type": "code",
   "execution_count": 6,
   "id": "446744fc",
   "metadata": {},
   "outputs": [
    {
     "name": "stdout",
     "output_type": "stream",
     "text": [
      "Median precipitation on pouring days in 2014: 0.7283464566929134\n",
      "Median precipitation on summer days in 2014: 0.0\n",
      "Maximum precipitation in the summer of 2014: 0.8503937007874016\n",
      "The median precipitation on non-summer pouring days in 2014: 0.7204724409448819\n"
     ]
    }
   ],
   "source": [
    "# Using the inches rain data and the following definition (pouring = (inches > 0.5)), \n",
    "# output the following data:\n",
    "\n",
    "pouring = (inches > 0.5)\n",
    "\n",
    "# Median precip on pouring days in 2014 (inches):\n",
    "\n",
    "print(\"Median precipitation on pouring days in 2014:\", np.median(inches[pouring]))\n",
    "\n",
    "# Median precip on summer days in 2014 (inches):\n",
    "\n",
    "days = np.arange(365)\n",
    "summer = (days > 172) & (days < 262)\n",
    "\n",
    "print(\"Median precipitation on summer days in 2014:\", np.median(inches[summer]))\n",
    "\n",
    "# Maximum precip on summer days in 2014 (inches):\n",
    "\n",
    "print(\"Maximum precipitation in the summer of 2014:\", np.max(inches[summer]))\n",
    "\n",
    "# Median precip on non-summer pouring days in 2014 (inches):\n",
    "\n",
    "print(\"The median precipitation on non-summer pouring days in 2014:\", np.median(inches[pouring & ~summer]))"
   ]
  },
  {
   "cell_type": "markdown",
   "id": "ab87a1b6",
   "metadata": {},
   "source": [
    "## Requirement 9"
   ]
  },
  {
   "cell_type": "markdown",
   "id": "3cdb0699",
   "metadata": {},
   "source": [
    "In your own words, explain the difference between the keywords and and or\n",
    "and the operators & and |. When are the keywords used and when are the\n",
    "operators used?\n",
    "\n",
    "And and or guage the truth or falsehood of an entire object, while & and | refer to bits within each object. When you use and or or, it's equivalent to asking Python to treat the object as a single Boolen entity. When you use & and | on integers, the expression operates on the bits of the element, applying the and or the or to the individual bits making up the number. And and or perform a single Boolean evaluation on the entire object, while & and | perform multiple Boolean evaluations on the content(the individual bits or bytes) of an object. For booleans Numpy arrays, the latter is nearly always the desired operation."
   ]
  },
  {
   "cell_type": "markdown",
   "id": "657d767b",
   "metadata": {},
   "source": [
    "## Requirement 10"
   ]
  },
  {
   "cell_type": "code",
   "execution_count": 7,
   "id": "8369982e",
   "metadata": {},
   "outputs": [
    {
     "name": "stdout",
     "output_type": "stream",
     "text": [
      "[ 6 10  0]\n",
      "[17 32 11]\n"
     ]
    }
   ],
   "source": [
    "# Demonstrate fancy indexing with:\n",
    "# one_d_array\n",
    "\n",
    "ind = [5,7,10]\n",
    "\n",
    "print(one_d_array[ind])\n",
    "\n",
    "# two_d_array\n",
    "\n",
    "row = [3,2,1]\n",
    "\n",
    "col = [3,4,2]\n",
    "\n",
    "print(two_d_array[row,col])"
   ]
  },
  {
   "cell_type": "markdown",
   "id": "02ac5202",
   "metadata": {},
   "source": [
    "## Requirement 11"
   ]
  },
  {
   "cell_type": "code",
   "execution_count": 8,
   "id": "171cf62b",
   "metadata": {},
   "outputs": [
    {
     "name": "stdout",
     "output_type": "stream",
     "text": [
      "[[28 11 27]\n",
      " [29 17 21]\n",
      " [17 26 18]]\n",
      "\n",
      "\n",
      "[[15 32 29]\n",
      " [18 27 11]\n",
      " [27 21 17]\n",
      " [21 18 26]]\n"
     ]
    }
   ],
   "source": [
    "# Demonstrate combined indexing with:\n",
    "# two_d_array and slicing\n",
    "\n",
    "print(two_d_array[1:,[3,2,1]])\n",
    "print('\\n')\n",
    "\n",
    "# two_d_array and masking\n",
    "\n",
    "mask = np.array([1, 1, 1, 0, 0], dtype=bool)\n",
    "\n",
    "print(two_d_array[:, mask])"
   ]
  },
  {
   "cell_type": "markdown",
   "id": "3b81ed7a",
   "metadata": {},
   "source": [
    "## Requirement 12"
   ]
  },
  {
   "cell_type": "code",
   "execution_count": 9,
   "id": "4e8425af",
   "metadata": {},
   "outputs": [
    {
     "name": "stdout",
     "output_type": "stream",
     "text": [
      "[[15 16 21 29 32]\n",
      " [11 14 18 27 28]\n",
      " [17 21 27 29 32]\n",
      " [17 18 21 26 26]]\n",
      "\n",
      "\n",
      "[[15 18 11 17 14]\n",
      " [18 21 17 21 16]\n",
      " [21 27 26 28 26]\n",
      " [27 32 29 29 32]]\n",
      "\n",
      "\n",
      "[[15 21 17 17 14]\n",
      " [18 18 11 21 16]\n",
      " [21 27 26 28 26]\n",
      " [27 32 29 29 32]]\n"
     ]
    }
   ],
   "source": [
    "# Demonstrate the following using two_d_array:\n",
    "# sort each row\n",
    "\n",
    "print(np.sort(two_d_array, axis=1))\n",
    "\n",
    "print('\\n')\n",
    "\n",
    "# sort each column\n",
    "\n",
    "print(np.sort(two_d_array, axis=0))\n",
    "\n",
    "print('\\n')\n",
    "\n",
    "# partition the array such that the first three values in each column are the lowest values in that column\n",
    "\n",
    "print(np.partition(two_d_array, 3, axis = 0))"
   ]
  },
  {
   "cell_type": "markdown",
   "id": "6e632116",
   "metadata": {},
   "source": [
    "## Requirement 13"
   ]
  },
  {
   "cell_type": "code",
   "execution_count": 10,
   "id": "40bdde82",
   "metadata": {},
   "outputs": [
    {
     "data": {
      "image/png": "[encoded data removed]",
      "text/plain": [
       "<Figure size 432x288 with 1 Axes>"
      ]
     },
     "metadata": {},
     "output_type": "display_data"
    }
   ],
   "source": [
    "# Produce a k-nearest neighbor plot using:\n",
    "# a 25 X 2 array\n",
    "\n",
    "x = np.random.rand(25, 2)\n",
    "\n",
    "# K = 3\n",
    "\n",
    "dist_sq = np.sum((x[:, np.newaxis, :] - x[np.newaxis, :, :]) ** 2, axis=-1)\n",
    "\n",
    "differences = x[:, np.newaxis, :] - x[np.newaxis, :, :]\n",
    "\n",
    "sq_differences = differences ** 2\n",
    "\n",
    "dist_sq = sq_differences.sum(-1)\n",
    "\n",
    "nearest = np.argsort(dist_sq, axis=1)\n",
    "\n",
    "K = 3\n",
    "\n",
    "nearest_partition = np.argpartition(dist_sq, K + 1, axis=1)\n",
    "\n",
    "%matplotlib inline\n",
    "\n",
    "import matplotlib.pyplot as plt\n",
    "\n",
    "import seaborn; seaborn.set() # Plot styling\n",
    "\n",
    "plt.scatter(x[:, 0], x[:, 1], s=100)\n",
    "\n",
    "for i in range(x.shape[0]):\n",
    "    for j in nearest_partition[i, :K+1]:\n",
    "        # plot a line from X[i] to X[j]\n",
    "        # use some zip magic to make it happen:\n",
    "        plt.plot(*zip(x[j], x[i]), color='black')"
   ]
  },
  {
   "cell_type": "markdown",
   "id": "03fbc88f",
   "metadata": {},
   "source": [
    "## Requirement 14"
   ]
  },
  {
   "cell_type": "code",
   "execution_count": 11,
   "id": "9e86aa63",
   "metadata": {},
   "outputs": [
    {
     "name": "stdout",
     "output_type": "stream",
     "text": [
      "[('Superman', 30, 'Krypton', 'Superhuman Strength')\n",
      " ('Spiderman', 16, 'Queens, NY', 'Web slinging')]\n"
     ]
    }
   ],
   "source": [
    "# Create a structured array named super_heroes using:\n",
    "# the dictionary method\n",
    "# NumPy data types for the element names\n",
    "# with the following element names:\n",
    "# i. name\n",
    "# ii. age\n",
    "# iii. birthplace\n",
    "# iv. super_power\n",
    "\n",
    "name = [\"Superman\", \"Spiderman\"]\n",
    "age = [30, 16]\n",
    "birthplace = ['Krypton','Queens, NY']\n",
    "super_power = ['Superhuman Strength', 'Web slinging']\n",
    "\n",
    "\n",
    "\n",
    "super_heroes = np.zeros(2, dtype={'names':('name', 'age', 'birthplace', 'super_power'),\n",
    "                                  'formats':('U10', 'i4', 'U50', 'U50')})\n",
    "\n",
    "super_heroes['name'] = name\n",
    "super_heroes['age'] = age\n",
    "super_heroes['birthplace'] = birthplace\n",
    "super_heroes['super_power'] = super_power\n",
    "\n",
    "print(super_heroes)"
   ]
  },
  {
   "cell_type": "markdown",
   "id": "d443ca55",
   "metadata": {},
   "source": [
    "## Requirement 15"
   ]
  },
  {
   "cell_type": "markdown",
   "id": "aa7e71c3",
   "metadata": {},
   "source": [
    "I enjoyed the use of numpy conditional statements and using some pandas functionality. I liked using sorts on the arrays. I was a bit underwhelmed on the k-nearest neighbor requirement as it requires some outside research to refresh on since an introduction isn't mentioned in the book. The book assumes a lot of the reader regarding prior knowledge of C and statistics."
   ]
  }
 ],
 "metadata": {
  "kernelspec": {
   "display_name": "Python 3 (ipykernel)",
   "language": "python",
   "name": "python3"
  },
  "language_info": {
   "codemirror_mode": {
    "name": "ipython",
    "version": 3
   },
   "file_extension": ".py",
   "mimetype": "text/x-python",
   "name": "python",
   "nbconvert_exporter": "python",
   "pygments_lexer": "ipython3",
   "version": "3.8.13"
  }
 },
 "nbformat": 4,
 "nbformat_minor": 5
}
